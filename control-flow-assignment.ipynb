{
 "cells": [
  {
   "cell_type": "raw",
   "id": "b97925d2-f910-4918-b76a-81bfce01d647",
   "metadata": {},
   "source": [
    "Basic If-Else Statements:"
   ]
  },
  {
   "cell_type": "raw",
   "id": "ae9b6b40-7820-4bed-8eba-51f4571dc19d",
   "metadata": {},
   "source": [
    "1. Write a Python program to check if a given number is positive or negative."
   ]
  },
  {
   "cell_type": "code",
   "execution_count": 1,
   "id": "891831fe-ea6a-45d9-b96a-8ca0fef832d8",
   "metadata": {},
   "outputs": [
    {
     "name": "stdin",
     "output_type": "stream",
     "text": [
      "Enter a number:  6\n"
     ]
    },
    {
     "name": "stdout",
     "output_type": "stream",
     "text": [
      "The number is positive.\n"
     ]
    }
   ],
   "source": [
    "def check_positive_negative(number):\n",
    "    if number > 0:\n",
    "        print(\"The number is positive.\")\n",
    "    elif number < 0:\n",
    "        print(\"The number is negative.\")\n",
    "    else:\n",
    "        print(\"The number is zero.\")\n",
    "\n",
    "number = float(input(\"Enter a number: \"))\n",
    "check_positive_negative(number)\n"
   ]
  },
  {
   "cell_type": "raw",
   "id": "cb9aeb13-011c-4159-9019-efb10b7c4a97",
   "metadata": {},
   "source": [
    "2. Create a program that determines if a person is eligible to vote based on their age."
   ]
  },
  {
   "cell_type": "code",
   "execution_count": null,
   "id": "9c77aa64-f66a-487a-bf63-ca6d68a72e86",
   "metadata": {},
   "outputs": [],
   "source": [
    "def check_voting_eligibility(age):\n",
    "    if age >= 18:\n",
    "        print(\"You are eligible to vote.\")\n",
    "    else:\n",
    "        print(\"You are not eligible to vote yet.\")\n",
    "\n",
    "age = int(input(\"Enter your age: \"))\n",
    "check_voting_eligibility(age)\n"
   ]
  },
  {
   "cell_type": "raw",
   "id": "9458cad6-c5f6-4b27-9c79-01c595a58109",
   "metadata": {},
   "source": [
    "3. Develop a program to find the maximum of two numbers using if-else statements."
   ]
  },
  {
   "cell_type": "code",
   "execution_count": 2,
   "id": "f7a99ac7-f3d9-4a2d-95a2-24d8896d5d4f",
   "metadata": {},
   "outputs": [
    {
     "name": "stdin",
     "output_type": "stream",
     "text": [
      "Enter the first number:  6\n",
      "Enter the second number:  7\n"
     ]
    },
    {
     "name": "stdout",
     "output_type": "stream",
     "text": [
      "The maximum of the two numbers is: 7.0\n"
     ]
    }
   ],
   "source": [
    "num1 = float(input(\"Enter the first number: \"))\n",
    "num2 = float(input(\"Enter the second number: \"))\n",
    "\n",
    "if num1 > num2:\n",
    "    max_num = num1\n",
    "else:\n",
    "    max_num = num2\n",
    "\n",
    "print(\"The maximum of the two numbers is:\", max_num)\n"
   ]
  },
  {
   "cell_type": "raw",
   "id": "a0576b95-d46e-47af-ad68-89eb5cb3fae2",
   "metadata": {},
   "source": [
    "4. Write a Python script to classify a given year as a leap year or not."
   ]
  },
  {
   "cell_type": "code",
   "execution_count": 4,
   "id": "a4a1dc46-0539-492e-a99d-a43bcce229e9",
   "metadata": {},
   "outputs": [
    {
     "name": "stdin",
     "output_type": "stream",
     "text": [
      "Enter a year:  500\n"
     ]
    },
    {
     "name": "stdout",
     "output_type": "stream",
     "text": [
      "500 is a leap year.\n"
     ]
    }
   ],
   "source": [
    "year = int(input(\"Enter a year: \"))\n",
    "\n",
    "if (year % 4 == 0):\n",
    "    print(year, \"is a leap year.\")\n",
    "else:\n",
    "    print(year, \"is not a leap year.\")\n"
   ]
  },
  {
   "cell_type": "raw",
   "id": "224e39bf-6db5-40d7-8cd7-f9364117dac3",
   "metadata": {},
   "source": [
    "5. Create a program that checks whether a character is a vowel or a consonant."
   ]
  },
  {
   "cell_type": "code",
   "execution_count": 6,
   "id": "9686a939-0b31-4825-a6a1-69569bcbe88b",
   "metadata": {},
   "outputs": [
    {
     "name": "stdin",
     "output_type": "stream",
     "text": [
      "Enter a character:  gjh\n"
     ]
    },
    {
     "name": "stdout",
     "output_type": "stream",
     "text": [
      "Please enter a single alphabetic character.\n"
     ]
    }
   ],
   "source": [
    "character = input(\"Enter a character: \")\n",
    "\n",
    "if character.isalpha() and len(character) == 1:\n",
    "    if character.lower() in 'aeiou':\n",
    "        print(character, \"is a vowel.\")\n",
    "    else:\n",
    "        print(character, \"is a consonant.\")\n",
    "else:\n",
    "    print(\"Please enter a single alphabetic character.\")\n"
   ]
  },
  {
   "cell_type": "raw",
   "id": "21685b87-62f5-466c-95ad-cbe965063c7b",
   "metadata": {},
   "source": [
    "6. Implement a program to determine whether a given number is even or odd."
   ]
  },
  {
   "cell_type": "code",
   "execution_count": 7,
   "id": "789be259-b08b-4c29-bced-7392edaf6956",
   "metadata": {},
   "outputs": [
    {
     "name": "stdin",
     "output_type": "stream",
     "text": [
      "Enter a number:  5\n"
     ]
    },
    {
     "name": "stdout",
     "output_type": "stream",
     "text": [
      "5 is an odd number.\n"
     ]
    }
   ],
   "source": [
    "number = int(input(\"Enter a number: \"))\n",
    "\n",
    "if number % 2 == 0:\n",
    "    print(number, \"is an even number.\")\n",
    "else:\n",
    "    print(number, \"is an odd number.\")\n"
   ]
  },
  {
   "cell_type": "raw",
   "id": "d50e6691-b074-4e53-a395-f52196a4da2b",
   "metadata": {},
   "source": [
    "7. Write a Python function to calculate the absolute value of a number without using the `abs()` function."
   ]
  },
  {
   "cell_type": "code",
   "execution_count": 11,
   "id": "397605d7-0aa0-49aa-944e-2446fafbe89d",
   "metadata": {},
   "outputs": [
    {
     "name": "stdin",
     "output_type": "stream",
     "text": [
      "Enter a number:  -98\n"
     ]
    },
    {
     "name": "stdout",
     "output_type": "stream",
     "text": [
      "Absolute value of -98.0 is 98.0\n"
     ]
    }
   ],
   "source": [
    "def absolute_value(number):\n",
    "    if number < 0:\n",
    "        return -number\n",
    "    else:\n",
    "        return number\n",
    "\n",
    "num = float(input(\"Enter a number: \"))\n",
    "print(\"Absolute value of\", num, \"is\", absolute_value(num))\n"
   ]
  },
  {
   "cell_type": "raw",
   "id": "e9478d24-5e48-4107-a330-f59eef4491b0",
   "metadata": {},
   "source": [
    "8. Develop a program that determines the largest of three given numbers using if-else statements."
   ]
  },
  {
   "cell_type": "code",
   "execution_count": null,
   "id": "41fffe92-6292-400e-b4f7-a7b15fdfa086",
   "metadata": {},
   "outputs": [],
   "source": [
    "num1 = float(input(\"Enter the first number: \"))\n",
    "num2 = float(input(\"Enter the second number: \"))\n",
    "num3 = float(input(\"Enter the third number: \"))\n",
    "\n",
    "if num1 >= num2 and num1 >= num3:\n",
    "    largest_num = num1\n",
    "elif num2 >= num1 and num2 >= num3:\n",
    "    largest_num = num2\n",
    "else:\n",
    "    largest_num = num3\n",
    "\n",
    "print(\"The largest of the three numbers is:\", largest_num)\n"
   ]
  },
  {
   "cell_type": "raw",
   "id": "852152df-f881-45d3-803d-58bd7f12cafa",
   "metadata": {},
   "source": [
    "9. Create a program that checks if a given string is a palindrome."
   ]
  },
  {
   "cell_type": "code",
   "execution_count": 12,
   "id": "eec5241c-27ef-4aef-84e9-ea12545fd156",
   "metadata": {},
   "outputs": [
    {
     "name": "stdin",
     "output_type": "stream",
     "text": [
      "Enter a string:  htrfhrh ftgjhf ftjuujd dj 67856 5y ryrtf\n"
     ]
    },
    {
     "name": "stdout",
     "output_type": "stream",
     "text": [
      "The string is not a palindrome.\n"
     ]
    }
   ],
   "source": [
    "def is_palindrome(s):\n",
    "    s = s.replace(\" \", \"\").lower()\n",
    "    return s == s[::-1]\n",
    "\n",
    "string = input(\"Enter a string: \")\n",
    "\n",
    "if is_palindrome(string):\n",
    "    print(\"The string is a palindrome.\")\n",
    "else:\n",
    "    print(\"The string is not a palindrome.\")\n"
   ]
  },
  {
   "cell_type": "raw",
   "id": "65c25514-e27c-4e17-ae3b-8da376683818",
   "metadata": {},
   "source": [
    "10. Write a Python program to calculate the grade based on a student's score."
   ]
  },
  {
   "cell_type": "code",
   "execution_count": null,
   "id": "0cb3de53-d0e0-4542-90ef-b643cac08f3e",
   "metadata": {},
   "outputs": [],
   "source": [
    "score = float(input(\"Enter the student's score: \"))\n",
    "\n",
    "if score >= 90:\n",
    "    grade = 'A'\n",
    "elif score >= 80:\n",
    "    grade = 'B'\n",
    "elif score >= 70:\n",
    "    grade = 'C'\n",
    "elif score >= 60:\n",
    "    grade = 'D'\n",
    "else:\n",
    "    grade = 'F'\n",
    "\n",
    "print(\"The student's grade is:\", grade)\n"
   ]
  },
  {
   "cell_type": "raw",
   "id": "b078f0a4-7158-4a7e-be89-bce43c84c82f",
   "metadata": {},
   "source": [
    "Nested If-Else Statements:"
   ]
  },
  {
   "cell_type": "raw",
   "id": "8fb54afc-faf4-4d36-8cc9-c5dc0e6490c1",
   "metadata": {},
   "source": [
    "11. Write a program to find the largest among three numbers using nested if-else statements."
   ]
  },
  {
   "cell_type": "code",
   "execution_count": null,
   "id": "da3f6be5-41a1-4af1-81a6-d7bb006262d3",
   "metadata": {},
   "outputs": [],
   "source": [
    "num1 = float(input(\"Enter the first number: \"))\n",
    "num2 = float(input(\"Enter the second number: \"))\n",
    "num3 = float(input(\"Enter the third number: \"))\n",
    "\n",
    "if num1 >= num2:\n",
    "    if num1 >= num3:\n",
    "        largest_num = num1\n",
    "    else:\n",
    "        largest_num = num3\n",
    "else:\n",
    "    if num2 >= num3:\n",
    "        largest_num = num2\n",
    "    else:\n",
    "        largest_num = num3\n",
    "\n",
    "print(\"The largest of the three numbers is:\", largest_num)\n"
   ]
  },
  {
   "cell_type": "raw",
   "id": "aba46781-b379-4982-8486-e10e16ed0158",
   "metadata": {},
   "source": [
    "12. Implement a program to determine if a triangle is equilateral, isosceles, or scalene."
   ]
  },
  {
   "cell_type": "code",
   "execution_count": null,
   "id": "e3ac990f-45e4-4173-a68b-1e694be5df03",
   "metadata": {},
   "outputs": [],
   "source": [
    "side1 = float(input(\"Enter the length of side 1: \"))\n",
    "side2 = float(input(\"Enter the length of side 2: \"))\n",
    "side3 = float(input(\"Enter the length of side 3: \"))\n",
    "\n",
    "if side1 + side2 > side3 and side2 + side3 > side1 and side1 + side3 > side2:\n",
    "    if side1 == side2 == side3:\n",
    "        print(\"It is an equilateral triangle.\")\n",
    "    elif side1 == side2 or side1 == side3 or side2 == side3:\n",
    "        print(\"It is an isosceles triangle.\")\n",
    "    else:\n",
    "        print(\"It is a scalene triangle.\")\n",
    "else:\n",
    "    print(\"The given side lengths do not form a valid triangle.\")\n"
   ]
  },
  {
   "cell_type": "raw",
   "id": "0d2b6a13-3520-4d9b-9c8f-525235628daa",
   "metadata": {},
   "source": [
    "13. Develop a program that checks if a year is a leap year and also if it is a century year."
   ]
  },
  {
   "cell_type": "code",
   "execution_count": null,
   "id": "241517bb-8c40-4638-b378-34362ca7e03d",
   "metadata": {},
   "outputs": [],
   "source": [
    "year = int(input(\"Enter a year: \"))\n",
    "\n",
    "if year % 4 == 0:\n",
    "    if year % 100 == 0:\n",
    "        if year % 400 == 0:\n",
    "            print(year, \"is a leap year and a century year.\")\n",
    "        else:\n",
    "            print(year, \"is not a leap year but a century year.\")\n",
    "    else:\n",
    "        print(year, \"is a leap year but not a century year.\")\n",
    "else:\n",
    "    print(year, \"is not a leap year and not a century year.\")\n"
   ]
  },
  {
   "cell_type": "raw",
   "id": "716094b3-3372-42ff-a47e-10174391c613",
   "metadata": {},
   "source": [
    "14. Write a Python script to determine if a number is positive, negative, or zero."
   ]
  },
  {
   "cell_type": "code",
   "execution_count": null,
   "id": "8bbc5482-7907-43b0-b91c-c21875b50bda",
   "metadata": {},
   "outputs": [],
   "source": [
    "number = float(input(\"Enter a number: \"))\n",
    "\n",
    "if number > 0:\n",
    "    print(\"The number is positive.\")\n",
    "elif number < 0:\n",
    "    print(\"The number is negative.\")\n",
    "else:\n",
    "    print(\"The number is zero.\")\n"
   ]
  },
  {
   "cell_type": "raw",
   "id": "660d206d-2709-47b8-ae1b-3f377d59c916",
   "metadata": {},
   "source": [
    "15. Create a program to check if a person is a teenager (between 13 and 19 years old)."
   ]
  },
  {
   "cell_type": "code",
   "execution_count": null,
   "id": "c2ea68f8-e126-4d58-bccf-20e650599ed5",
   "metadata": {},
   "outputs": [],
   "source": [
    "age = int(input(\"Enter your age: \"))\n",
    "\n",
    "if 13 <= age <= 19:\n",
    "    print(\"You are a teenager.\")\n",
    "else:\n",
    "    print(\"You are not a teenager.\")\n"
   ]
  },
  {
   "cell_type": "raw",
   "id": "b83927b1-0d29-4642-b541-435ea64fe164",
   "metadata": {},
   "source": [
    "16. Develop a program that determines the type of angle based on its measure (acute, obtuse, or right)."
   ]
  },
  {
   "cell_type": "code",
   "execution_count": null,
   "id": "10d627cb-4a28-4d7d-acfc-5acbbf6f9c07",
   "metadata": {},
   "outputs": [],
   "source": [
    "angle = float(input(\"Enter the measure of the angle in degrees: \"))\n",
    "\n",
    "if angle > 0 and angle < 90:\n",
    "    print(\"The angle is acute.\")\n",
    "elif angle == 90:\n",
    "    print(\"The angle is right.\")\n",
    "elif angle > 90 and angle < 180:\n",
    "    print(\"The angle is obtuse.\")\n",
    "else:\n",
    "    print(\"The angle measure is not valid or does not fall within the standard range.\")\n"
   ]
  },
  {
   "cell_type": "raw",
   "id": "910df54e-5fc4-443b-a02c-76af38de23fd",
   "metadata": {},
   "source": [
    "17. Write a Python program to calculate the roots of a quadratic equation."
   ]
  },
  {
   "cell_type": "code",
   "execution_count": 13,
   "id": "18bcda97-da78-4126-8a75-2e275004b9ce",
   "metadata": {},
   "outputs": [
    {
     "name": "stdin",
     "output_type": "stream",
     "text": [
      "Enter the coefficient of x^2:  6\n",
      "Enter the coefficient of x:  8\n",
      "Enter the constant term:  9\n"
     ]
    },
    {
     "name": "stdout",
     "output_type": "stream",
     "text": [
      "The roots are complex numbers:\n",
      "Root 1: (-0.6666666666666666+1.0274023338281626j)\n",
      "Root 2: (-0.6666666666666666-1.0274023338281626j)\n"
     ]
    }
   ],
   "source": [
    "import math\n",
    "\n",
    "def calculate_roots(a, b, c):\n",
    "    discriminant = b**2 - 4*a*c\n",
    "\n",
    "    if discriminant > 0:\n",
    "        root1 = (-b + math.sqrt(discriminant)) / (2*a)\n",
    "        root2 = (-b - math.sqrt(discriminant)) / (2*a)\n",
    "        return root1, root2\n",
    "    elif discriminant == 0:\n",
    "        root = -b / (2*a)\n",
    "        return root, None\n",
    "    else:\n",
    "        real_part = -b / (2*a)\n",
    "        imaginary_part = math.sqrt(abs(discriminant)) / (2*a)\n",
    "        root1 = complex(real_part, imaginary_part)\n",
    "        root2 = complex(real_part, -imaginary_part)\n",
    "        return root1, root2\n",
    "\n",
    "if __name__ == \"__main__\":\n",
    "    a = float(input(\"Enter the coefficient of x^2: \"))\n",
    "    b = float(input(\"Enter the coefficient of x: \"))\n",
    "    c = float(input(\"Enter the constant term: \"))\n",
    "\n",
    "    roots = calculate_roots(a, b, c)\n",
    "\n",
    "    if isinstance(roots[0], complex):\n",
    "        print(\"The roots are complex numbers:\")\n",
    "        print(\"Root 1:\", roots[0])\n",
    "        print(\"Root 2:\", roots[1])\n",
    "    else:\n",
    "        print(\"The roots are real numbers:\")\n",
    "        print(\"Root 1:\", roots[0])\n",
    "        print(\"Root 2:\", roots[1])\n"
   ]
  },
  {
   "cell_type": "raw",
   "id": "0165870c-2231-452a-aa7c-c295fdf16106",
   "metadata": {},
   "source": [
    "18. Implement a program to determine the day of the week based on a user-provided number (1 for Monday, 2\n",
    "for Tuesday, etc.)."
   ]
  },
  {
   "cell_type": "code",
   "execution_count": 14,
   "id": "885683b9-64d8-4a6d-96d7-08018bba7683",
   "metadata": {},
   "outputs": [
    {
     "name": "stdin",
     "output_type": "stream",
     "text": [
      "Enter the number corresponding to the day of the week (1 for Monday, 2 for Tuesday, etc.):  5\n"
     ]
    },
    {
     "name": "stdout",
     "output_type": "stream",
     "text": [
      "The day of the week is: Friday\n"
     ]
    }
   ],
   "source": [
    "def determine_day_of_week(day_number):\n",
    "    days_of_week = [\"Monday\", \"Tuesday\", \"Wednesday\", \"Thursday\", \"Friday\", \"Saturday\", \"Sunday\"]\n",
    "    \n",
    "    if day_number < 1 or day_number > 7:\n",
    "        return \"Invalid day number. Please enter a number between 1 and 7.\"\n",
    "    else:\n",
    "        return days_of_week[day_number - 1]\n",
    "\n",
    "if __name__ == \"__main__\":\n",
    "    try:\n",
    "        day_number = int(input(\"Enter the number corresponding to the day of the week (1 for Monday, 2 for Tuesday, etc.): \"))\n",
    "        day_of_week = determine_day_of_week(day_number)\n",
    "        print(\"The day of the week is:\", day_of_week)\n",
    "    except ValueError:\n",
    "        print(\"Invalid input. Please enter a valid integer.\")\n"
   ]
  },
  {
   "cell_type": "raw",
   "id": "2b3469ed-ede9-4432-b853-53110da74c45",
   "metadata": {},
   "source": [
    "19. Create a program that determines if a year is a leap year and also if it is evenly divisible by 400."
   ]
  },
  {
   "cell_type": "code",
   "execution_count": null,
   "id": "1e37e97a-319f-442a-814f-486567868db0",
   "metadata": {},
   "outputs": [],
   "source": [
    "def is_leap_year(year):\n",
    "    if (year % 4 == 0 and year % 100 != 0) or (year % 400 == 0):\n",
    "        return True\n",
    "    else:\n",
    "        return False\n",
    "\n",
    "if __name__ == \"__main__\":\n",
    "    try:\n",
    "        year = int(input(\"Enter a year to determine if it's a leap year: \"))\n",
    "        if is_leap_year(year):\n",
    "            print(f\"{year} is a leap year.\")\n",
    "            if year % 400 == 0:\n",
    "                print(f\"{year} is also evenly divisible by 400.\")\n",
    "        else:\n",
    "            print(f\"{year} is not a leap year.\")\n",
    "    except ValueError:\n",
    "        print(\"Invalid input. Please enter a valid year.\")\n"
   ]
  },
  {
   "cell_type": "raw",
   "id": "3746c515-dcca-4c1e-ab45-09fb767c200b",
   "metadata": {},
   "source": [
    "20. Develop a program that checks if a given number is prime or not using nested if-else statements."
   ]
  },
  {
   "cell_type": "code",
   "execution_count": 15,
   "id": "0a420288-c393-4704-abd9-46048e9bab75",
   "metadata": {},
   "outputs": [
    {
     "name": "stdin",
     "output_type": "stream",
     "text": [
      "Enter a number to check if it's prime:  6\n"
     ]
    },
    {
     "name": "stdout",
     "output_type": "stream",
     "text": [
      "6 is not a prime number.\n"
     ]
    }
   ],
   "source": [
    "def is_prime(number):\n",
    "    if number <= 1:\n",
    "        return False\n",
    "    elif number <= 3:\n",
    "        return True\n",
    "    elif number % 2 == 0 or number % 3 == 0:\n",
    "        return False\n",
    "    else:\n",
    "        i = 5\n",
    "        while i * i <= number:\n",
    "            if number % i == 0 or number % (i + 2) == 0:\n",
    "                return False\n",
    "            i += 6\n",
    "        return True\n",
    "\n",
    "if __name__ == \"__main__\":\n",
    "    try:\n",
    "        num = int(input(\"Enter a number to check if it's prime: \"))\n",
    "        if is_prime(num):\n",
    "            print(f\"{num} is a prime number.\")\n",
    "        else:\n",
    "            print(f\"{num} is not a prime number.\")\n",
    "    except ValueError:\n",
    "        print(\"Invalid input. Please enter a valid integer.\")\n"
   ]
  },
  {
   "cell_type": "code",
   "execution_count": null,
   "id": "d7a3a940-bbae-4dd0-ae47-671a95eeac4a",
   "metadata": {},
   "outputs": [],
   "source": [
    "Elif Statements:"
   ]
  },
  {
   "cell_type": "raw",
   "id": "fd990003-d4f5-4e9b-92a9-c89f72d088cf",
   "metadata": {},
   "source": [
    "21. Write a Python program to assign grades based on different ranges of scores using elif statements."
   ]
  },
  {
   "cell_type": "code",
   "execution_count": null,
   "id": "06ee7fda-a762-44e8-abc9-389a634e279a",
   "metadata": {},
   "outputs": [],
   "source": [
    "def assign_grade(score):\n",
    "    if score >= 90:\n",
    "        return 'A'\n",
    "    elif score >= 80:\n",
    "        return 'B'\n",
    "    elif score >= 70:\n",
    "        return 'C'\n",
    "    elif score >= 60:\n",
    "        return 'D'\n",
    "    else:\n",
    "        return 'F'\n",
    "\n",
    "if __name__ == \"__main__\":\n",
    "    try:\n",
    "        score = float(input(\"Enter the score to assign the grade: \"))\n",
    "        if score < 0 or score > 100:\n",
    "            print(\"Invalid score. Please enter a score between 0 and 100.\")\n",
    "        else:\n",
    "            grade = assign_grade(score)\n",
    "            print(f\"The grade for score {score} is {grade}.\")\n",
    "    except ValueError:\n",
    "        print(\"Invalid input. Please enter a valid numeric score.\")\n"
   ]
  },
  {
   "cell_type": "raw",
   "id": "3c2fbab2-c307-4764-b2e6-c558b1a21142",
   "metadata": {},
   "source": [
    "22. Implement a program to determine the type of a triangle based on its angles."
   ]
  },
  {
   "cell_type": "code",
   "execution_count": null,
   "id": "84d157a7-b727-4fc9-8e59-adcdc146c1e2",
   "metadata": {},
   "outputs": [],
   "source": [
    "def triangle_type(angle1, angle2, angle3):\n",
    "    if angle1 + angle2 + angle3 != 180:\n",
    "        return \"Invalid triangle: Sum of angles is not 180 degrees\"\n",
    "    \n",
    "    if angle1 < 90 and angle2 < 90 and angle3 < 90:\n",
    "        return \"Acute triangle\"\n",
    "    elif angle1 == 90 or angle2 == 90 or angle3 == 90:\n",
    "        return \"Right triangle\"\n",
    "    else:\n",
    "        return \"Obtuse triangle\"\n",
    "\n",
    "if __name__ == \"__main__\":\n",
    "    try:\n",
    "        angle1 = float(input(\"Enter the measure of the first angle: \"))\n",
    "        angle2 = float(input(\"Enter the measure of the second angle: \"))\n",
    "        angle3 = float(input(\"Enter the measure of the third angle: \"))\n",
    "\n",
    "        triangle = triangle_type(angle1, angle2, angle3)\n",
    "        print(\"The triangle is:\", triangle)\n",
    "    except ValueError:\n",
    "        print(\"Invalid input. Please enter valid numeric angles.\")\n"
   ]
  },
  {
   "cell_type": "raw",
   "id": "9c3625aa-b72d-42d7-a8ae-ad19a91f1d82",
   "metadata": {},
   "source": [
    "23. Develop a program to categorize a given person's BMI into underweight, normal, overweight, or obese using\n",
    "elif statements."
   ]
  },
  {
   "cell_type": "code",
   "execution_count": null,
   "id": "9d212d8a-94f5-45af-b152-3e18b8a92307",
   "metadata": {},
   "outputs": [],
   "source": [
    "def categorize_bmi(bmi):\n",
    "    if bmi < 18.5:\n",
    "        return \"Underweight\"\n",
    "    elif 18.5 <= bmi < 25:\n",
    "        return \"Normal weight\"\n",
    "    elif 25 <= bmi < 30:\n",
    "        return \"Overweight\"\n",
    "    else:\n",
    "        return \"Obese\"\n",
    "\n",
    "if __name__ == \"__main__\":\n",
    "    try:\n",
    "        weight = float(input(\"Enter your weight in kilograms: \"))\n",
    "        height = float(input(\"Enter your height in meters: \"))\n",
    "\n",
    "        if weight <= 0 or height <= 0:\n",
    "            print(\"Invalid input: Weight and height must be positive numbers.\")\n",
    "        else:\n",
    "            bmi = weight / (height ** 2)\n",
    "            category = categorize_bmi(bmi)\n",
    "            print(f\"Your BMI is {bmi:.2f}, which falls under the category of {category}.\")\n",
    "    except ValueError:\n",
    "        print(\"Invalid input: Please enter valid numeric values for weight and height.\")\n"
   ]
  },
  {
   "cell_type": "raw",
   "id": "ed07b988-c776-43bb-9b24-1f8ea0c01550",
   "metadata": {},
   "source": [
    "24. Create a program that determines whether a given number is positive, negative, or zero using elif\n",
    "statements."
   ]
  },
  {
   "cell_type": "code",
   "execution_count": null,
   "id": "135ffeaf-c760-488c-9438-82f4dd7ad94a",
   "metadata": {},
   "outputs": [],
   "source": [
    "def determine_number_type(number):\n",
    "    if number > 0:\n",
    "        return \"Positive\"\n",
    "    elif number < 0:\n",
    "        return \"Negative\"\n",
    "    else:\n",
    "        return \"Zero\"\n",
    "\n",
    "if __name__ == \"__main__\":\n",
    "    try:\n",
    "        num = float(input(\"Enter a number: \"))\n",
    "        number_type = determine_number_type(num)\n",
    "        print(f\"The number {num} is {number_type}.\")\n",
    "    except ValueError:\n",
    "        print(\"Invalid input. Please enter a valid number.\")\n"
   ]
  },
  {
   "cell_type": "raw",
   "id": "e8069236-7d8a-4173-8170-885e6e756ec7",
   "metadata": {},
   "source": [
    "25. Write a Python script to determine the type of a character (uppercase, lowercase, or special) using elif\n",
    "statements."
   ]
  },
  {
   "cell_type": "code",
   "execution_count": null,
   "id": "d046b155-407a-47f7-94fd-6d1c90cbae76",
   "metadata": {},
   "outputs": [],
   "source": [
    "def determine_char_type(char):\n",
    "    if char.isupper():\n",
    "        return \"Uppercase\"\n",
    "    elif char.islower():\n",
    "        return \"Lowercase\"\n",
    "    else:\n",
    "        return \"Special\"\n",
    "\n",
    "if __name__ == \"__main__\":\n",
    "    try:\n",
    "        char = input(\"Enter a character: \")\n",
    "        if len(char) != 1:\n",
    "            print(\"Invalid input: Please enter only one character.\")\n",
    "        else:\n",
    "            char_type = determine_char_type(char)\n",
    "            print(f\"The character '{char}' is {char_type}.\")\n",
    "    except ValueError:\n",
    "        print(\"Invalid input. Please enter a valid character.\")\n"
   ]
  },
  {
   "cell_type": "raw",
   "id": "bdc88356-3ae9-4c22-875f-e31628ab7742",
   "metadata": {},
   "source": [
    "26. Implement a program to calculate the discounted price based on different purchase amounts using elif\n",
    "statements."
   ]
  },
  {
   "cell_type": "code",
   "execution_count": null,
   "id": "5fc0b890-013d-476b-814a-a657770d4df8",
   "metadata": {},
   "outputs": [],
   "source": [
    "def calculate_discounted_price(amount):\n",
    "    if amount < 100:\n",
    "        discount = 0\n",
    "    elif 100 <= amount < 500:\n",
    "        discount = 0.05\n",
    "    elif 500 <= amount < 1000:\n",
    "        discount = 0.1\n",
    "    else:\n",
    "        discount = 0.15\n",
    "    \n",
    "    discounted_price = amount - (amount * discount)\n",
    "    return discounted_price\n",
    "\n",
    "if __name__ == \"__main__\":\n",
    "    try:\n",
    "        purchase_amount = float(input(\"Enter the purchase amount: $\"))\n",
    "        if purchase_amount < 0:\n",
    "            print(\"Invalid input: Purchase amount cannot be negative.\")\n",
    "        else:\n",
    "            discounted_price = calculate_discounted_price(purchase_amount)\n",
    "            print(f\"The discounted price for a purchase of ${purchase_amount:.2f} is ${discounted_price:.2f}.\")\n",
    "    except ValueError:\n",
    "        print(\"Invalid input. Please enter a valid purchase amount.\")\n"
   ]
  },
  {
   "cell_type": "raw",
   "id": "33448112-4bf1-4d7c-ac62-c09c72ff425f",
   "metadata": {},
   "source": [
    "27. Develop a program to calculate the electricity bill based on different consumption slabs using elif\n",
    "statements."
   ]
  },
  {
   "cell_type": "code",
   "execution_count": null,
   "id": "72bbb087-f449-4be7-85db-a61e9340c56a",
   "metadata": {},
   "outputs": [],
   "source": [
    "def calculate_electricity_bill(units):\n",
    "    if units <= 50:\n",
    "        bill = units * 0.50\n",
    "    elif units <= 150:\n",
    "        bill = 50 * 0.50 + (units - 50) * 0.75\n",
    "    elif units <= 250:\n",
    "        bill = 50 * 0.50 + 100 * 0.75 + (units - 150) * 1.20\n",
    "    else:\n",
    "        bill = 50 * 0.50 + 100 * 0.75 + 100 * 1.20 + (units - 250) * 1.50\n",
    "    \n",
    "    return bill\n",
    "\n",
    "if __name__ == \"__main__\":\n",
    "    try:\n",
    "        units_consumed = float(input(\"Enter the units of electricity consumed: \"))\n",
    "        if units_consumed < 0:\n",
    "            print(\"Invalid input: Units consumed cannot be negative.\")\n",
    "        else:\n",
    "            bill_amount = calculate_electricity_bill(units_consumed)\n",
    "            print(f\"The electricity bill for {units_consumed} units is ${bill_amount:.2f}.\")\n",
    "    except ValueError:\n",
    "        print(\"Invalid input. Please enter a valid number of units.\")\n"
   ]
  },
  {
   "cell_type": "raw",
   "id": "eb33de98-50c9-4ebf-bcde-27076534d53c",
   "metadata": {},
   "source": [
    "28. Create a program to determine the type of quadrilateral based on its angles and sides using elif\n",
    "statements."
   ]
  },
  {
   "cell_type": "code",
   "execution_count": null,
   "id": "3f087538-9471-47a0-b2e3-1d7340b7e62a",
   "metadata": {},
   "outputs": [],
   "source": [
    "def determine_quadrilateral_type(angles, sides):\n",
    "    num_angles = len(angles)\n",
    "    num_sides = len(sides)\n",
    "\n",
    "    if num_angles != 4 or num_sides != 4:\n",
    "        return \"Invalid input: Quadrilateral must have exactly 4 angles and 4 sides.\"\n",
    "    elif sum(angles) != 360:\n",
    "        return \"Invalid input: Sum of angles in a quadrilateral must be 360 degrees.\"\n",
    "    elif min(sides) <= 0:\n",
    "        return \"Invalid input: Side lengths must be positive.\"\n",
    "    elif max(angles) == 90:\n",
    "        return \"Quadrilateral is a rectangle\"\n",
    "    elif angles.count(90) == 2:\n",
    "        return \"Quadrilateral is a parallelogram\"\n",
    "    elif len(set(sides)) == 1:\n",
    "        return \"Quadrilateral is a rhombus\"\n",
    "    elif len(set(angles)) == 1:\n",
    "        return \"Quadrilateral is a kite\"\n",
    "    else:\n",
    "        return \"Quadrilateral is a general quadrilateral\"\n",
    "\n",
    "if __name__ == \"__main__\":\n",
    "    try:\n",
    "        angles = []\n",
    "        sides = []\n",
    "\n",
    "        for i in range(4):\n",
    "            angle = float(input(f\"Enter the measure of angle {i+1} in degrees: \"))\n",
    "            angles.append(angle)\n",
    "            side = float(input(f\"Enter the length of side {i+1}: \"))\n",
    "            sides.append(side)\n",
    "\n",
    "        quadrilateral_type = determine_quadrilateral_type(angles, sides)\n",
    "        print(\"The quadrilateral is:\", quadrilateral_type)\n",
    "    except ValueError:\n",
    "        print(\"Invalid input. Please enter valid numeric values.\")\n"
   ]
  },
  {
   "cell_type": "raw",
   "id": "1bd5931e-0462-4b6d-8f36-a518200500dc",
   "metadata": {},
   "source": [
    "29. Write a Python script to determine the season based on a user-provided month using elif statements."
   ]
  },
  {
   "cell_type": "code",
   "execution_count": null,
   "id": "984b7de5-7455-4c42-bd61-7f681d24022b",
   "metadata": {},
   "outputs": [],
   "source": [
    "def determine_season(month):\n",
    "    if month in (12, 1, 2):\n",
    "        return \"Winter\"\n",
    "    elif month in (3, 4, 5):\n",
    "        return \"Spring\"\n",
    "    elif month in (6, 7, 8):\n",
    "        return \"Summer\"\n",
    "    elif month in (9, 10, 11):\n",
    "        return \"Fall\"\n",
    "    else:\n",
    "        return \"Invalid month\"\n",
    "\n",
    "if __name__ == \"__main__\":\n",
    "    try:\n",
    "        month = int(input(\"Enter the month (1-12): \"))\n",
    "        if month < 1 or month > 12:\n",
    "            print(\"Invalid input: Month must be between 1 and 12.\")\n",
    "        else:\n",
    "            season = determine_season(month)\n",
    "            print(f\"The season for month {month} is {season}.\")\n",
    "    except ValueError:\n",
    "        print(\"Invalid input: Please enter a valid month as a number.\")\n"
   ]
  },
  {
   "cell_type": "raw",
   "id": "0d398aaa-1ce9-4026-8090-19184eb38d06",
   "metadata": {},
   "source": [
    "30. Implement a program to determine the type of a year (leap or common) and month (30 or 31 days) using\n",
    "elif statements."
   ]
  },
  {
   "cell_type": "code",
   "execution_count": null,
   "id": "a93a30a3-acda-45c6-a8b5-add8862a09ae",
   "metadata": {},
   "outputs": [],
   "source": [
    "def is_leap_year(year):\n",
    "    if (year % 4 == 0 and year % 100 != 0) or (year % 400 == 0):\n",
    "        return True\n",
    "    else:\n",
    "        return False\n",
    "\n",
    "def determine_days_in_month(month, year):\n",
    "    if month in (1, 3, 5, 7, 8, 10, 12):\n",
    "        return 31\n",
    "    elif month in (4, 6, 9, 11):\n",
    "        return 30\n",
    "    elif month == 2:\n",
    "        if is_leap_year(year):\n",
    "            return 29\n",
    "        else:\n",
    "            return 28\n",
    "    else:\n",
    "        return -1\n",
    "\n",
    "if __name__ == \"__main__\":\n",
    "    try:\n",
    "        year = int(input(\"Enter the year: \"))\n",
    "        month = int(input(\"Enter the month (1-12): \"))\n",
    "\n",
    "        if month < 1 or month > 12:\n",
    "            print(\"Invalid input: Month must be between 1 and 12.\")\n",
    "        else:\n",
    "            if is_leap_year(year):\n",
    "                print(f\"{year} is a leap year.\")\n",
    "            else:\n",
    "                print(f\"{year} is a common year.\")\n",
    "\n",
    "            days_in_month = determine_days_in_month(month, year)\n",
    "            if days_in_month == -1:\n",
    "                print(\"Invalid month.\")\n",
    "            else:\n",
    "                print(f\"The month {month} in {year} has {days_in_month} days.\")\n",
    "    except ValueError:\n",
    "        print(\"Invalid input: Please enter valid integers for year and month.\")\n"
   ]
  },
  {
   "cell_type": "code",
   "execution_count": null,
   "id": "1b031fe0-63e9-4016-af4e-7c62a1ff0194",
   "metadata": {},
   "outputs": [],
   "source": [
    "Basic Level:"
   ]
  },
  {
   "cell_type": "raw",
   "id": "94cb1a66-1735-4335-b674-d9c5ab3a1f35",
   "metadata": {},
   "source": [
    "1. Write a Python program that checks if a given number is positive, negative, or zero."
   ]
  },
  {
   "cell_type": "code",
   "execution_count": null,
   "id": "db4d5c28-4e69-4365-8cf5-79574064cce5",
   "metadata": {},
   "outputs": [],
   "source": [
    "def check_number(number):\n",
    "    if number > 0:\n",
    "        return \"Positive\"\n",
    "    elif number < 0:\n",
    "        return \"Negative\"\n",
    "    else:\n",
    "        return \"Zero\"\n",
    "\n",
    "if __name__ == \"__main__\":\n",
    "    try:\n",
    "        num = float(input(\"Enter a number: \"))\n",
    "        result = check_number(num)\n",
    "        print(f\"The number {num} is {result}.\")\n",
    "    except ValueError:\n",
    "        print(\"Invalid input. Please enter a valid number.\")\n"
   ]
  },
  {
   "cell_type": "raw",
   "id": "2294cd3a-f138-498f-bb31-beb94e116d79",
   "metadata": {},
   "source": [
    "2. Create a program to determine if a person is eligible to vote based on their age."
   ]
  },
  {
   "cell_type": "code",
   "execution_count": null,
   "id": "d6c20925-48d2-4d54-96ce-8cc4c4a60575",
   "metadata": {},
   "outputs": [],
   "source": [
    "def check_voting_eligibility(age):\n",
    "    if age >= 18:\n",
    "        return \"You are eligible to vote!\"\n",
    "    else:\n",
    "        return \"You are not eligible to vote yet.\"\n",
    "\n",
    "if __name__ == \"__main__\":\n",
    "    try:\n",
    "        age = int(input(\"Enter your age: \"))\n",
    "        if age < 0:\n",
    "            print(\"Invalid age. Age cannot be negative.\")\n",
    "        else:\n",
    "            eligibility = check_voting_eligibility(age)\n",
    "            print(eligibility)\n",
    "    except ValueError:\n",
    "        print(\"Invalid input. Please enter a valid age as an integer.\")\n"
   ]
  },
  {
   "cell_type": "raw",
   "id": "e3f986a6-1597-43fd-aa0c-71ba25e0be94",
   "metadata": {},
   "source": [
    "3. Write a program to find the maximum of two given numbers using conditional statements."
   ]
  },
  {
   "cell_type": "code",
   "execution_count": null,
   "id": "583df4c8-ae76-4a40-9188-e778a2596445",
   "metadata": {},
   "outputs": [],
   "source": [
    "def find_maximum(num1, num2):\n",
    "    if num1 > num2:\n",
    "        return num1\n",
    "    else:\n",
    "        return num2\n",
    "\n",
    "if __name__ == \"__main__\":\n",
    "    try:\n",
    "        num1 = float(input(\"Enter the first number: \"))\n",
    "        num2 = float(input(\"Enter the second number: \"))\n",
    "\n",
    "        maximum = find_maximum(num1, num2)\n",
    "        print(f\"The maximum of {num1} and {num2} is {maximum}.\")\n",
    "    except ValueError:\n",
    "        print(\"Invalid input. Please enter valid numbers.\")\n"
   ]
  },
  {
   "cell_type": "raw",
   "id": "30945e31-9136-41d4-ab48-00d9ddf18aa8",
   "metadata": {},
   "source": [
    "4. Develop a program that calculates the grade of a student based on their exam score."
   ]
  },
  {
   "cell_type": "code",
   "execution_count": null,
   "id": "4f548723-57ba-44c5-8523-086258fa6a7d",
   "metadata": {},
   "outputs": [],
   "source": [
    "def calculate_grade(score):\n",
    "    if score >= 90:\n",
    "        return \"A\"\n",
    "    elif score >= 80:\n",
    "        return \"B\"\n",
    "    elif score >= 70:\n",
    "        return \"C\"\n",
    "    elif score >= 60:\n",
    "        return \"D\"\n",
    "    else:\n",
    "        return \"F\"\n",
    "\n",
    "if __name__ == \"__main__\":\n",
    "    try:\n",
    "        score = float(input(\"Enter the exam score: \"))\n",
    "        if score < 0 or score > 100:\n",
    "            print(\"Invalid score. Score must be between 0 and 100.\")\n",
    "        else:\n",
    "            grade = calculate_grade(score)\n",
    "            print(f\"The grade for the score {score} is {grade}.\")\n",
    "    except ValueError:\n",
    "        print(\"Invalid input. Please enter a valid numeric score.\")\n"
   ]
  },
  {
   "cell_type": "raw",
   "id": "1a33851b-25b9-4ae1-84c6-45bf1bd01e83",
   "metadata": {},
   "source": [
    "5. Create a program that checks if a year is a leap year or not."
   ]
  },
  {
   "cell_type": "code",
   "execution_count": null,
   "id": "1b3f40fa-21bb-4230-9f54-4a5ea237ba54",
   "metadata": {},
   "outputs": [],
   "source": [
    "def is_leap_year(year):\n",
    "    if (year % 4 == 0 and year % 100 != 0) or (year % 400 == 0):\n",
    "        return True\n",
    "    else:\n",
    "        return False\n",
    "\n",
    "if __name__ == \"__main__\":\n",
    "    try:\n",
    "        year = int(input(\"Enter a year: \"))\n",
    "        if year < 0:\n",
    "            print(\"Invalid year. Please enter a positive number.\")\n",
    "        else:\n",
    "            if is_leap_year(year):\n",
    "                print(f\"{year} is a leap year.\")\n",
    "            else:\n",
    "                print(f\"{year} is not a leap year.\")\n",
    "    except ValueError:\n",
    "        print(\"Invalid input. Please enter a valid year as an integer.\")\n"
   ]
  },
  {
   "cell_type": "raw",
   "id": "66c0b773-6983-4664-817e-17b104e45a08",
   "metadata": {},
   "source": [
    "6. Write a program to classify a triangle based on its sides' lengths."
   ]
  },
  {
   "cell_type": "code",
   "execution_count": null,
   "id": "cb040971-7fa7-441d-91a2-fa9a2ddb9014",
   "metadata": {},
   "outputs": [],
   "source": [
    "def classify_triangle(side1, side2, side3):\n",
    "    if side1 == side2 == side3:\n",
    "        return \"Equilateral triangle\"\n",
    "    elif side1 == side2 or side1 == side3 or side2 == side3:\n",
    "        return \"Isosceles triangle\"\n",
    "    else:\n",
    "        return \"Scalene triangle\"\n",
    "\n",
    "if __name__ == \"__main__\":\n",
    "    try:\n",
    "        side1 = float(input(\"Enter the length of side 1: \"))\n",
    "        side2 = float(input(\"Enter the length of side 2: \"))\n",
    "        side3 = float(input(\"Enter the length of side 3: \"))\n",
    "\n",
    "        if side1 <= 0 or side2 <= 0 or side3 <= 0:\n",
    "            print(\"Invalid input: Side lengths must be positive numbers.\")\n",
    "        elif side1 + side2 <= side3 or side1 + side3 <= side2 or side2 + side3 <= side1:\n",
    "            print(\"Invalid input: The sum of the lengths of any two sides of a triangle must be greater than the length of the third side.\")\n",
    "        else:\n",
    "            triangle_type = classify_triangle(side1, side2, side3)\n",
    "            print(f\"The triangle with side lengths {side1}, {side2}, {side3} is a {triangle_type}.\")\n",
    "    except ValueError:\n",
    "        print(\"Invalid input: Please enter valid numeric side lengths.\")\n"
   ]
  },
  {
   "cell_type": "raw",
   "id": "4253563d-345a-404c-aa13-fc3c2a89520d",
   "metadata": {},
   "source": [
    "7. Build a program that determines the largest of three given numbers."
   ]
  },
  {
   "cell_type": "code",
   "execution_count": null,
   "id": "5f498e97-c9f4-4d55-8754-a42bae2373a3",
   "metadata": {},
   "outputs": [],
   "source": [
    "def find_largest(num1, num2, num3):\n",
    "    largest = num1\n",
    "    if num2 > largest:\n",
    "        largest = num2\n",
    "    if num3 > largest:\n",
    "        largest = num3\n",
    "    return largest\n",
    "\n",
    "if __name__ == \"__main__\":\n",
    "    try:\n",
    "        num1 = float(input(\"Enter the first number: \"))\n",
    "        num2 = float(input(\"Enter the second number: \"))\n",
    "        num3 = float(input(\"Enter the third number: \"))\n",
    "\n",
    "        largest_number = find_largest(num1, num2, num3)\n",
    "        print(f\"The largest number among {num1}, {num2}, and {num3} is {largest_number}.\")\n",
    "    except ValueError:\n",
    "        print(\"Invalid input. Please enter valid numeric values.\")\n"
   ]
  },
  {
   "cell_type": "raw",
   "id": "e1896ebd-1106-42bc-829d-6ca4b2a1e44e",
   "metadata": {},
   "source": [
    "8. Develop a program that checks whether a character is a vowel or a consonant."
   ]
  },
  {
   "cell_type": "code",
   "execution_count": null,
   "id": "d58fe1dc-7864-4bb9-a61d-36d71ba30fbd",
   "metadata": {},
   "outputs": [],
   "source": [
    "def check_vowel_or_consonant(char):\n",
    "    if char.isalpha():\n",
    "        if char.lower() in 'aeiou':\n",
    "            return \"Vowel\"\n",
    "        else:\n",
    "            return \"Consonant\"\n",
    "    else:\n",
    "        return \"Invalid character: Please enter an alphabet character.\"\n",
    "\n",
    "if __name__ == \"__main__\":\n",
    "    try:\n",
    "        char = input(\"Enter a character: \")\n",
    "\n",
    "        if len(char) != 1:\n",
    "            print(\"Invalid input: Please enter only one character.\")\n",
    "        else:\n",
    "            result = check_vowel_or_consonant(char)\n",
    "            print(f\"The character '{char}' is a {result}.\")\n",
    "    except ValueError:\n",
    "        print(\"Invalid input. Please enter a valid character.\")\n"
   ]
  },
  {
   "cell_type": "raw",
   "id": "31d300c3-3203-4d70-abcd-97a72b41fed0",
   "metadata": {},
   "source": [
    "9. Create a program to calculate the total cost of a shopping cart based on discounts."
   ]
  },
  {
   "cell_type": "code",
   "execution_count": null,
   "id": "e2fd673f-670f-4334-9dd0-e8dce61ffc7a",
   "metadata": {},
   "outputs": [],
   "source": [
    "def calculate_total_cost(prices, discounts):\n",
    "    total_cost = sum(prices)\n",
    "    for discount in discounts:\n",
    "        total_cost -= total_cost * (discount / 100)\n",
    "    return total_cost\n",
    "\n",
    "if __name__ == \"__main__\":\n",
    "    try:\n",
    "        num_items = int(input(\"Enter the number of items: \"))\n",
    "        prices = []\n",
    "        discounts = []\n",
    "\n",
    "        for i in range(num_items):\n",
    "            price = float(input(f\"Enter the price of item {i+1}: $\"))\n",
    "            prices.append(price)\n",
    "            discount = float(input(f\"Enter the discount percentage for item {i+1} (0 for no discount): \"))\n",
    "            discounts.append(discount)\n",
    "\n",
    "        total_cost = calculate_total_cost(prices, discounts)\n",
    "        print(f\"The total cost of the shopping cart is: ${total_cost:.2f}\")\n",
    "    except ValueError:\n",
    "        print(\"Invalid input. Please enter valid numeric values.\")\n"
   ]
  },
  {
   "cell_type": "raw",
   "id": "288e4d8c-17d9-4c24-8f8b-0111ef21b191",
   "metadata": {},
   "source": [
    "10. Write a program that checks if a given number is even or odd."
   ]
  },
  {
   "cell_type": "code",
   "execution_count": null,
   "id": "9a6260df-0e66-430f-b5e8-dc62cdf4f69e",
   "metadata": {},
   "outputs": [],
   "source": [
    "def check_even_odd(number):\n",
    "    if number % 2 == 0:\n",
    "        return \"Even\"\n",
    "    else:\n",
    "        return \"Odd\"\n",
    "\n",
    "if __name__ == \"__main__\":\n",
    "    try:\n",
    "        num = int(input(\"Enter a number: \"))\n",
    "        result = check_even_odd(num)\n",
    "        print(f\"The number {num} is {result}.\")\n",
    "    except ValueError:\n",
    "        print(\"Invalid input. Please enter a valid integer.\")\n"
   ]
  },
  {
   "cell_type": "code",
   "execution_count": null,
   "id": "23cd88e5-531c-418e-a624-50a90c820193",
   "metadata": {},
   "outputs": [],
   "source": [
    "Intermediate Level:"
   ]
  },
  {
   "cell_type": "raw",
   "id": "2ebb2d84-18a0-4a45-86b8-857a9ba3646c",
   "metadata": {},
   "source": [
    "11. Write a program that calculates the roots of a quadratic equation ."
   ]
  },
  {
   "cell_type": "code",
   "execution_count": null,
   "id": "e0de7931-a61f-4da0-b3f8-4bc573f98b8f",
   "metadata": {},
   "outputs": [],
   "source": [
    "import math\n",
    "\n",
    "def calculate_roots(a, b, c):\n",
    "    discriminant = b**2 - 4*a*c\n",
    "\n",
    "    if discriminant > 0:\n",
    "        root1 = (-b + math.sqrt(discriminant)) / (2*a)\n",
    "        root2 = (-b - math.sqrt(discriminant)) / (2*a)\n",
    "        return root1, root2\n",
    "    elif discriminant == 0:\n",
    "        root = -b / (2*a)\n",
    "        return root, root\n",
    "    else:\n",
    "        real_part = -b / (2*a)\n",
    "        imaginary_part = math.sqrt(abs(discriminant)) / (2*a)\n",
    "        root1 = complex(real_part, imaginary_part)\n",
    "        root2 = complex(real_part, -imaginary_part)\n",
    "        return root1, root2\n",
    "\n",
    "if __name__ == \"__main__\":\n",
    "    try:\n",
    "        a = float(input(\"Enter the coefficient of x^2 (a): \"))\n",
    "        b = float(input(\"Enter the coefficient of x (b): \"))\n",
    "        c = float(input(\"Enter the constant term (c): \"))\n",
    "\n",
    "        if a == 0:\n",
    "            print(\"Invalid input: 'a' coefficient must be non-zero for a quadratic equation.\")\n",
    "        else:\n",
    "            root1, root2 = calculate_roots(a, b, c)\n",
    "            print(\"The roots of the quadratic equation are:\", root1, \"and\", root2)\n",
    "    except ValueError:\n",
    "        print(\"Invalid input. Please enter valid numeric coefficients.\")\n"
   ]
  },
  {
   "cell_type": "raw",
   "id": "3a8bce19-e64f-4351-a575-33b60f10c8fc",
   "metadata": {},
   "source": [
    "12. Create a program that determines the day of the week based on the day number (1-7)."
   ]
  },
  {
   "cell_type": "code",
   "execution_count": null,
   "id": "1b61a9d4-9fca-4d8b-8a65-7c37831a201e",
   "metadata": {},
   "outputs": [],
   "source": [
    "def determine_day_of_week(day_number):\n",
    "    days_of_week = {\n",
    "        1: \"Monday\",\n",
    "        2: \"Tuesday\",\n",
    "        3: \"Wednesday\",\n",
    "        4: \"Thursday\",\n",
    "        5: \"Friday\",\n",
    "        6: \"Saturday\",\n",
    "        7: \"Sunday\"\n",
    "    }\n",
    "\n",
    "    return days_of_week.get(day_number, \"Invalid day number\")\n",
    "\n",
    "if __name__ == \"__main__\":\n",
    "    try:\n",
    "        day_number = int(input(\"Enter the day number (1-7): \"))\n",
    "\n",
    "        if day_number < 1 or day_number > 7:\n",
    "            print(\"Invalid input: Day number must be between 1 and 7.\")\n",
    "        else:\n",
    "            day_of_week = determine_day_of_week(day_number)\n",
    "            print(f\"The day number {day_number} corresponds to {day_of_week}.\")\n",
    "    except ValueError:\n",
    "        print(\"Invalid input: Please enter a valid day number as an integer.\")\n"
   ]
  },
  {
   "cell_type": "raw",
   "id": "789ae8ae-a833-4c00-9f90-52ffa18f6a8f",
   "metadata": {},
   "source": [
    "13. Develop a program that calculates the factorial of a given number using recursion."
   ]
  },
  {
   "cell_type": "code",
   "execution_count": null,
   "id": "aa8555d6-fd0e-403a-82e7-d2b3ff8edf83",
   "metadata": {},
   "outputs": [],
   "source": [
    "def factorial(n):\n",
    "    if n == 0:\n",
    "        return 1\n",
    "    else:\n",
    "        return n * factorial(n - 1)\n",
    "\n",
    "if __name__ == \"__main__\":\n",
    "    try:\n",
    "        num = int(input(\"Enter a non-negative integer: \"))\n",
    "        if num < 0:\n",
    "            print(\"Invalid input. Please enter a non-negative integer.\")\n",
    "        else:\n",
    "            result = factorial(num)\n",
    "            print(f\"The factorial of {num} is: {result}\")\n",
    "    except ValueError:\n",
    "        print(\"Invalid input. Please enter a valid non-negative integer.\")\n"
   ]
  },
  {
   "cell_type": "raw",
   "id": "0e726e4c-d92f-4353-8a43-823c803ff349",
   "metadata": {},
   "source": [
    "14. Write a program to find the largest among three numbers without using the `max()` function."
   ]
  },
  {
   "cell_type": "code",
   "execution_count": null,
   "id": "64e5a720-329e-47e4-9cd7-724e1acd338b",
   "metadata": {},
   "outputs": [],
   "source": [
    "def find_largest(num1, num2, num3):\n",
    "    if num1 >= num2 and num1 >= num3:\n",
    "        return num1\n",
    "    elif num2 >= num1 and num2 >= num3:\n",
    "        return num2\n",
    "    else:\n",
    "        return num3\n",
    "\n",
    "if __name__ == \"__main__\":\n",
    "    try:\n",
    "        num1 = float(input(\"Enter the first number: \"))\n",
    "        num2 = float(input(\"Enter the second number: \"))\n",
    "        num3 = float(input(\"Enter the third number: \"))\n",
    "\n",
    "        largest_number = find_largest(num1, num2, num3)\n",
    "        print(f\"The largest number among {num1}, {num2}, and {num3} is {largest_number}.\")\n",
    "    except ValueError:\n",
    "        print(\"Invalid input. Please enter valid numeric values.\")\n"
   ]
  },
  {
   "cell_type": "raw",
   "id": "e203b6e6-98ac-4e6f-8f08-4352d8faa156",
   "metadata": {},
   "source": [
    "15. Create a program that simulates a basic ATM transaction menu."
   ]
  },
  {
   "cell_type": "code",
   "execution_count": null,
   "id": "cd5af7d6-38ba-4511-9509-2b1c9a92dad3",
   "metadata": {},
   "outputs": [],
   "source": [
    "def check_balance(balance):\n",
    "    print(f\"Your current balance is ${balance:.2f}\")\n",
    "\n",
    "def deposit(balance):\n",
    "    amount = float(input(\"Enter the amount you want to deposit: $\"))\n",
    "    if amount > 0:\n",
    "        balance += amount\n",
    "        print(f\"${amount:.2f} has been successfully deposited.\")\n",
    "    else:\n",
    "        print(\"Invalid amount. Deposit amount must be greater than zero.\")\n",
    "    return balance\n",
    "\n",
    "def withdraw(balance):\n",
    "    amount = float(input(\"Enter the amount you want to withdraw: $\"))\n",
    "    if 0 < amount <= balance:\n",
    "        balance -= amount\n",
    "        print(f\"${amount:.2f} has been successfully withdrawn.\")\n",
    "    elif amount > balance:\n",
    "        print(\"Insufficient funds. Cannot withdraw more than your balance.\")\n",
    "    else:\n",
    "        print(\"Invalid amount. Withdrawal amount must be greater than zero.\")\n",
    "    return balance\n",
    "\n",
    "if __name__ == \"__main__\":\n",
    "    balance = 1000.00\n",
    "\n",
    "    while True:\n",
    "        print(\"\\n***** ATM Transaction Menu *****\")\n",
    "        print(\"1. Check Balance\")\n",
    "        print(\"2. Deposit\")\n",
    "        print(\"3. Withdraw\")\n",
    "        print(\"4. Exit\")\n",
    "\n",
    "        choice = input(\"Enter your choice (1-4): \")\n",
    "\n",
    "        if choice == '1':\n",
    "            check_balance(balance)\n",
    "        elif choice == '2':\n",
    "            balance = deposit(balance)\n",
    "        elif choice == '3':\n",
    "            balance = withdraw(balance)\n",
    "        elif choice == '4':\n",
    "            print(\"Thank you for using our ATM. Goodbye!\")\n",
    "            break\n",
    "        else:\n",
    "            print(\"Invalid choice. Please enter a valid option (1-4).\")\n"
   ]
  },
  {
   "cell_type": "raw",
   "id": "2fc07a37-f084-4436-849e-d63e7462b0b4",
   "metadata": {},
   "source": [
    "16. Build a program that checks if a given string is a palindrome or not."
   ]
  },
  {
   "cell_type": "code",
   "execution_count": null,
   "id": "bce62040-2bef-4230-9348-85ca19ed4760",
   "metadata": {},
   "outputs": [],
   "source": [
    "def is_palindrome(s):\n",
    "    s = ''.join(char.lower() for char in s if char.isalnum())\n",
    "    return s == s[::-1]\n",
    "\n",
    "if __name__ == \"__main__\":\n",
    "    string = input(\"Enter a string: \")\n",
    "    if is_palindrome(string):\n",
    "        print(f\"The string '{string}' is a palindrome.\")\n",
    "    else:\n",
    "        print(f\"The string '{string}' is not a palindrome.\")\n"
   ]
  },
  {
   "cell_type": "raw",
   "id": "1837cdc5-595c-48d6-aee0-cc6bac9b8beb",
   "metadata": {},
   "source": [
    "17. Write a program that calculates the average of a list of numbers, excluding the smallest and largest values."
   ]
  },
  {
   "cell_type": "code",
   "execution_count": null,
   "id": "f7009b8c-51a9-4197-8744-e23cc53ddce5",
   "metadata": {},
   "outputs": [],
   "source": [
    "def calculate_average(numbers):\n",
    "    if len(numbers) <= 2:\n",
    "        return 0\n",
    "\n",
    "    numbers.sort()\n",
    "    trimmed_numbers = numbers[1:-1]\n",
    "    return sum(trimmed_numbers) / len(trimmed_numbers)\n",
    "\n",
    "if __name__ == \"__main__\":\n",
    "    try:\n",
    "        numbers = [float(x) for x in input(\"Enter a list of numbers separated by spaces: \").split()]\n",
    "        average = calculate_average(numbers)\n",
    "        print(f\"The average of the list excluding the smallest and largest values is: {average:.2f}\")\n",
    "    except ValueError:\n",
    "        print(\"Invalid input. Please enter valid numeric values separated by spaces.\")\n"
   ]
  },
  {
   "cell_type": "raw",
   "id": "250be82a-2ab8-4cbd-b2fc-df92bd8bbe6b",
   "metadata": {},
   "source": [
    "18. Develop a program that converts a given temperature from Celsius to Fahrenheit."
   ]
  },
  {
   "cell_type": "code",
   "execution_count": null,
   "id": "6d4784e4-0b26-4bbc-b99d-1cba88a27161",
   "metadata": {},
   "outputs": [],
   "source": [
    "def celsius_to_fahrenheit(celsius):\n",
    "    fahrenheit = (celsius * 9/5) + 32\n",
    "    return fahrenheit\n",
    "\n",
    "if __name__ == \"__main__\":\n",
    "    try:\n",
    "        celsius = float(input(\"Enter the temperature in Celsius: \"))\n",
    "        fahrenheit = celsius_to_fahrenheit(celsius)\n",
    "        print(f\"{celsius} degrees Celsius is equal to {fahrenheit:.2f} degrees Fahrenheit.\")\n",
    "    except ValueError:\n",
    "        print(\"Invalid input. Please enter a valid numeric temperature in Celsius.\")\n"
   ]
  },
  {
   "cell_type": "raw",
   "id": "878615f3-39ae-4aa9-a35a-e23e2746e8a7",
   "metadata": {},
   "source": [
    "19. Create a program that simulates a basic calculator for addition, subtraction, multiplication, and division."
   ]
  },
  {
   "cell_type": "code",
   "execution_count": 16,
   "id": "a4ea941d-2e78-4597-866b-32fe56f0240f",
   "metadata": {},
   "outputs": [
    {
     "name": "stdout",
     "output_type": "stream",
     "text": [
      "Welcome to Basic Calculator\n",
      "\n",
      "Operation Menu:\n",
      "1. Addition\n",
      "2. Subtraction\n",
      "3. Multiplication\n",
      "4. Division\n",
      "5. Exit\n"
     ]
    },
    {
     "name": "stdin",
     "output_type": "stream",
     "text": [
      "Enter your choice (1-5):  1\n",
      "Enter the first number:  5\n",
      "Enter the second number:  5\n"
     ]
    },
    {
     "name": "stdout",
     "output_type": "stream",
     "text": [
      "5.0 + 5.0 = 10.0\n",
      "\n",
      "Operation Menu:\n",
      "1. Addition\n",
      "2. Subtraction\n",
      "3. Multiplication\n",
      "4. Division\n",
      "5. Exit\n"
     ]
    },
    {
     "name": "stdin",
     "output_type": "stream",
     "text": [
      "Enter your choice (1-5):  5\n"
     ]
    },
    {
     "name": "stdout",
     "output_type": "stream",
     "text": [
      "Thank you for using the Basic Calculator. Goodbye!\n"
     ]
    }
   ],
   "source": [
    "def add(x, y):\n",
    "    return x + y\n",
    "\n",
    "def subtract(x, y):\n",
    "    return x - y\n",
    "\n",
    "def multiply(x, y):\n",
    "    return x * y\n",
    "\n",
    "def divide(x, y):\n",
    "    if y == 0:\n",
    "        return \"Cannot divide by zero\"\n",
    "    else:\n",
    "        return x / y\n",
    "\n",
    "if __name__ == \"__main__\":\n",
    "    print(\"Welcome to Basic Calculator\")\n",
    "\n",
    "    while True:\n",
    "        print(\"\\nOperation Menu:\")\n",
    "        print(\"1. Addition\")\n",
    "        print(\"2. Subtraction\")\n",
    "        print(\"3. Multiplication\")\n",
    "        print(\"4. Division\")\n",
    "        print(\"5. Exit\")\n",
    "\n",
    "        choice = input(\"Enter your choice (1-5): \")\n",
    "\n",
    "        if choice in ('1', '2', '3', '4'):\n",
    "            num1 = float(input(\"Enter the first number: \"))\n",
    "            num2 = float(input(\"Enter the second number: \"))\n",
    "\n",
    "            if choice == '1':\n",
    "                print(f\"{num1} + {num2} = {add(num1, num2)}\")\n",
    "            elif choice == '2':\n",
    "                print(f\"{num1} - {num2} = {subtract(num1, num2)}\")\n",
    "            elif choice == '3':\n",
    "                print(f\"{num1} * {num2} = {multiply(num1, num2)}\")\n",
    "            elif choice == '4':\n",
    "                print(f\"{num1} / {num2} = {divide(num1, num2)}\")\n",
    "        elif choice == '5':\n",
    "            print(\"Thank you for using the Basic Calculator. Goodbye!\")\n",
    "            break\n",
    "        else:\n",
    "            print(\"Invalid choice. Please enter a valid option (1-5).\")\n"
   ]
  },
  {
   "cell_type": "raw",
   "id": "b4fe467a-9383-4a25-84ac-f822a97a28eb",
   "metadata": {},
   "source": [
    "20. Write a program that determines the roots of a cubic equation using the Cardano formula."
   ]
  },
  {
   "cell_type": "code",
   "execution_count": null,
   "id": "ecabcde9-ffaa-46e9-9ffa-ea04a2bc9ed2",
   "metadata": {},
   "outputs": [],
   "source": [
    "import math\n",
    "\n",
    "def solve_cubic(a, b, c, d):\n",
    "    if a == 0:\n",
    "        print(\"This is not a cubic equation.\")\n",
    "        return\n",
    "\n",
    "    p = (3*a*c - b**2) / (3*a**2)\n",
    "    q = (2*b**3 - 9*a*b*c + 27*a**2*d) / (27*a**3)\n",
    "    delta = q**2 / 4 + p**3 / 27\n",
    "\n",
    "    if delta > 0:\n",
    "        u = (-q/2 + math.sqrt(delta))**(1/3)\n",
    "        v = (-q/2 - math.sqrt(delta))**(1/3)\n",
    "        real_root = u + v - b / (3*a)\n",
    "        print(f\"The real root of the cubic equation is: {real_root:.4f}\")\n",
    "    elif delta == 0:\n",
    "        u = (-q/2)**(1/3)\n",
    "        v = (-q/2)**(1/3)\n",
    "        real_root = u + v - b / (3*a)\n",
    "        print(f\"The real root of the cubic equation is: {real_root:.4f}\")\n",
    "    else:\n",
    "        phi = math.acos(-q / 2 * math.sqrt(-27 / p**3)) / 3\n",
    "        root1 = 2 * math.sqrt(-p / 3) * math.cos(phi) - b / (3 * a)\n",
    "        root2 = 2 * math.sqrt(-p / 3) * math.cos(phi + 2 * math.pi / 3) - b / (3 * a)\n",
    "        root3 = 2 * math.sqrt(-p / 3) * math.cos(phi + 4 * math.pi / 3) - b / (3 * a)\n",
    "        print(f\"The roots of the cubic equation are: {root1:.4f}, {root2:.4f}, {root3:.4f}\")\n",
    "\n",
    "if __name__ == \"__main__\":\n",
    "    try:\n",
    "        a = float(input(\"Enter the coefficient of x^3 (a): \"))\n",
    "        b = float(input(\"Enter the coefficient of x^2 (b): \"))\n",
    "        c = float(input(\"Enter the coefficient of x (c): \"))\n",
    "        d = float(input(\"Enter the constant term (d): \"))\n",
    "\n",
    "        solve_cubic(a, b, c, d)\n",
    "    except ValueError:\n",
    "        print(\"Invalid input. Please enter valid numeric coefficients.\")\n"
   ]
  },
  {
   "cell_type": "code",
   "execution_count": null,
   "id": "2ed92bce-0886-4488-8658-c8368d6040e5",
   "metadata": {},
   "outputs": [],
   "source": [
    "Advanced Level:"
   ]
  },
  {
   "cell_type": "raw",
   "id": "e00c57dd-763e-493b-9cf7-29201266a238",
   "metadata": {},
   "source": [
    "21. Create a program that calculates the income tax based on the user's income and tax brackets."
   ]
  },
  {
   "cell_type": "code",
   "execution_count": null,
   "id": "433321b4-3d3a-415e-9404-d1aa16e79971",
   "metadata": {},
   "outputs": [],
   "source": [
    "def calculate_tax(income, brackets):\n",
    "    tax = 0\n",
    "    remaining_income = income\n",
    "\n",
    "    for bracket in brackets:\n",
    "        if remaining_income <= 0:\n",
    "            break\n",
    "        bracket_amount, bracket_rate = bracket\n",
    "        taxable_amount = min(remaining_income, bracket_amount)\n",
    "        tax += taxable_amount * bracket_rate\n",
    "        remaining_income -= bracket_amount\n",
    "\n",
    "    return tax\n",
    "\n",
    "if __name__ == \"__main__\":\n",
    "    try:\n",
    "        income = float(input(\"Enter your annual income: \"))\n",
    "\n",
    "        brackets = [\n",
    "            (10000, 0.10),\n",
    "            (20000, 0.15),\n",
    "            (30000, 0.20),\n",
    "            (None, 0.25)\n",
    "        ]\n",
    "\n",
    "        tax = calculate_tax(income, brackets)\n",
    "        print(f\"Your income tax is: ${tax:.2f}\")\n",
    "    except ValueError:\n",
    "        print(\"Invalid input. Please enter a valid numeric income.\")\n"
   ]
  },
  {
   "cell_type": "raw",
   "id": "e1d8c276-1142-4c3f-8cb4-cca44d7ac0f5",
   "metadata": {},
   "source": [
    "22. Write a program that simulates a rock-paper-scissors game against the computer."
   ]
  },
  {
   "cell_type": "code",
   "execution_count": null,
   "id": "cafd1e2e-6017-4253-a2f7-7f8fbfc1967d",
   "metadata": {},
   "outputs": [],
   "source": [
    "import random\n",
    "\n",
    "def determine_winner(player_choice, computer_choice):\n",
    "    if player_choice == computer_choice:\n",
    "        return \"It's a tie!\"\n",
    "    elif (player_choice == 'rock' and computer_choice == 'scissors') or \\\n",
    "         (player_choice == 'paper' and computer_choice == 'rock') or \\\n",
    "         (player_choice == 'scissors' and computer_choice == 'paper'):\n",
    "        return \"You win!\"\n",
    "    else:\n",
    "        return \"Computer wins!\"\n",
    "\n",
    "if __name__ == \"__main__\":\n",
    "    choices = ['rock', 'paper', 'scissors']\n",
    "\n",
    "    while True:\n",
    "        player_choice = input(\"Enter your choice (rock, paper, scissors): \").lower()\n",
    "\n",
    "        if player_choice not in choices:\n",
    "            print(\"Invalid choice. Please enter 'rock', 'paper', or 'scissors'.\")\n",
    "            continue\n",
    "\n",
    "        computer_choice = random.choice(choices)\n",
    "        print(f\"Computer chooses: {computer_choice}\")\n",
    "\n",
    "        print(determine_winner(player_choice, computer_choice))\n",
    "\n",
    "        play_again = input(\"Do you want to play again? (yes/no): \").lower()\n",
    "        if play_again != 'yes':\n",
    "            print(\"Thanks for playing!\")\n",
    "            break\n"
   ]
  },
  {
   "cell_type": "raw",
   "id": "9fa8d512-051a-43ec-9c94-b0c47b36d330",
   "metadata": {},
   "source": [
    "23. Develop a program that generates a random password based on user preferences (length, complexity)."
   ]
  },
  {
   "cell_type": "code",
   "execution_count": null,
   "id": "e211881d-6094-48d4-8f9c-190560455c7e",
   "metadata": {},
   "outputs": [],
   "source": [
    "import random\n",
    "import string\n",
    "\n",
    "def generate_password(length, complexity):\n",
    "    if complexity == \"low\":\n",
    "        characters = string.ascii_letters + string.digits\n",
    "    elif complexity == \"medium\":\n",
    "        characters = string.ascii_letters + string.digits + string.punctuation\n",
    "    elif complexity == \"high\":\n",
    "        characters = string.ascii_letters + string.digits + string.punctuation + string.ascii_lowercase + string.ascii_uppercase\n",
    "    else:\n",
    "        print(\"Invalid complexity level. Defaulting to low complexity.\")\n",
    "        characters = string.ascii_letters + string.digits\n",
    "\n",
    "    password = ''.join(random.choice(characters) for _ in range(length))\n",
    "    return password\n",
    "\n",
    "if __name__ == \"__main__\":\n",
    "    try:\n",
    "        length = int(input(\"Enter the length of the password: \"))\n",
    "        complexity = input(\"Enter the complexity level (low/medium/high): \").lower()\n",
    "\n",
    "        if complexity not in ['low', 'medium', 'high']:\n",
    "            print(\"Invalid complexity level. Defaulting to low complexity.\")\n",
    "\n",
    "        password = generate_password(length, complexity)\n",
    "        print(\"Generated Password:\", password)\n",
    "    except ValueError:\n",
    "        print(\"Invalid input. Please enter a valid integer for password length.\")\n"
   ]
  },
  {
   "cell_type": "raw",
   "id": "0d5dc2c5-b4e4-439d-b776-b911566ecffb",
   "metadata": {},
   "source": [
    "24. Create a program that implements a simple text-based adventure game with branching scenarios."
   ]
  },
  {
   "cell_type": "code",
   "execution_count": 18,
   "id": "49b4b4f1-9e32-4a14-b226-a610222570cb",
   "metadata": {},
   "outputs": [
    {
     "name": "stdout",
     "output_type": "stream",
     "text": [
      "Welcome to the Text Adventure Game!\n",
      "You find yourself standing in front of a mysterious house.\n",
      "What do you do?\n",
      "1. Knock on the door\n",
      "2. Walk around the house\n"
     ]
    },
    {
     "name": "stdin",
     "output_type": "stream",
     "text": [
      "Enter your choice (1 or 2):  2\n"
     ]
    },
    {
     "name": "stdout",
     "output_type": "stream",
     "text": [
      "You decide to take a walk around the house.\n",
      "As you explore, you notice a strange figure in the backyard.\n",
      "What do you do?\n",
      "1. Approach the figure\n",
      "2. Ignore it and continue walking\n"
     ]
    },
    {
     "name": "stdin",
     "output_type": "stream",
     "text": [
      "Enter your choice (1 or 2):  1\n"
     ]
    },
    {
     "name": "stdout",
     "output_type": "stream",
     "text": [
      "You cautiously approach the figure...\n"
     ]
    }
   ],
   "source": [
    "def start_game():\n",
    "    print(\"Welcome to the Text Adventure Game!\")\n",
    "    print(\"You find yourself standing in front of a mysterious house.\")\n",
    "    print(\"What do you do?\")\n",
    "    print(\"1. Knock on the door\")\n",
    "    print(\"2. Walk around the house\")\n",
    "\n",
    "    choice = input(\"Enter your choice (1 or 2): \")\n",
    "\n",
    "    if choice == '1':\n",
    "        knock_on_door()\n",
    "    elif choice == '2':\n",
    "        walk_around_house()\n",
    "    else:\n",
    "        print(\"Invalid choice. Please try again.\")\n",
    "        start_game()\n",
    "\n",
    "def knock_on_door():\n",
    "    print(\"You knock on the door and wait...\")\n",
    "    print(\"No one answers. What now?\")\n",
    "    print(\"1. Try the doorknob\")\n",
    "    print(\"2. Walk away\")\n",
    "\n",
    "    choice = input(\"Enter your choice (1 or 2): \")\n",
    "\n",
    "    if choice == '1':\n",
    "        print(\"The door is unlocked! You step inside...\")\n",
    "     \n",
    "    elif choice == '2':\n",
    "        print(\"You decide to walk away from the house.\")\n",
    "       \n",
    "    else:\n",
    "        print(\"Invalid choice. Please try again.\")\n",
    "        knock_on_door()\n",
    "\n",
    "def walk_around_house():\n",
    "    print(\"You decide to take a walk around the house.\")\n",
    "    print(\"As you explore, you notice a strange figure in the backyard.\")\n",
    "    print(\"What do you do?\")\n",
    "    print(\"1. Approach the figure\")\n",
    "    print(\"2. Ignore it and continue walking\")\n",
    "\n",
    "    choice = input(\"Enter your choice (1 or 2): \")\n",
    "\n",
    "    if choice == '1':\n",
    "        print(\"You cautiously approach the figure...\")\n",
    "\n",
    "    elif choice == '2':\n",
    "        print(\"You decide to ignore the figure and keep walking.\")\n",
    "       \n",
    "    else:\n",
    "        print(\"Invalid choice. Please try again.\")\n",
    "        walk_around_house()\n",
    "\n",
    "if __name__ == \"__main__\":\n",
    "    start_game()\n"
   ]
  },
  {
   "cell_type": "raw",
   "id": "3aaca167-aa38-4675-b12e-928cb973c709",
   "metadata": {},
   "source": [
    "25. Build a program that solves a linear equation for x, considering different cases."
   ]
  },
  {
   "cell_type": "code",
   "execution_count": 19,
   "id": "b6a9e60f-9937-4f2c-9c78-1deff40c1fc9",
   "metadata": {},
   "outputs": [
    {
     "name": "stdin",
     "output_type": "stream",
     "text": [
      "Enter the coefficient of x (a):  5\n",
      "Enter the constant term (b):  6\n"
     ]
    },
    {
     "name": "stdout",
     "output_type": "stream",
     "text": [
      "The solution for the linear equation 5.0x + 6.0 = 0 is x = -1.20\n"
     ]
    }
   ],
   "source": [
    "def solve_linear_equation(a, b):\n",
    "    if a == 0:\n",
    "        if b == 0:\n",
    "            print(\"The equation is satisfied for all real numbers.\")\n",
    "        else:\n",
    "            print(\"The equation has no solution.\")\n",
    "    else:\n",
    "        x = -b / a\n",
    "        print(f\"The solution for the linear equation {a}x + {b} = 0 is x = {x:.2f}\")\n",
    "\n",
    "if __name__ == \"__main__\":\n",
    "    try:\n",
    "        a = float(input(\"Enter the coefficient of x (a): \"))\n",
    "        b = float(input(\"Enter the constant term (b): \"))\n",
    "\n",
    "        solve_linear_equation(a, b)\n",
    "    except ValueError:\n",
    "        print(\"Invalid input. Please enter valid numeric coefficients.\")\n"
   ]
  },
  {
   "cell_type": "raw",
   "id": "33c32e12-972f-43b1-a877-07832a353c30",
   "metadata": {},
   "source": [
    "26. Write a program that simulates a basic quiz game with multiple-choice questions and scoring."
   ]
  },
  {
   "cell_type": "code",
   "execution_count": 21,
   "id": "935be17b-e804-4dfa-86d2-9785580e8496",
   "metadata": {},
   "outputs": [
    {
     "name": "stdout",
     "output_type": "stream",
     "text": [
      "Welcome to the Quiz Game!\n",
      "What is the capital of India?\n",
      "1. Delhi\n",
      "2. London\n",
      "3. Berlin\n"
     ]
    },
    {
     "name": "stdin",
     "output_type": "stream",
     "text": [
      "Enter your choice:  1\n"
     ]
    },
    {
     "name": "stdout",
     "output_type": "stream",
     "text": [
      "Correct!\n",
      "\n",
      "Which planet is known as the Red Planet?\n",
      "1. Earth\n",
      "2. Mars\n",
      "3. Venus\n"
     ]
    },
    {
     "name": "stdin",
     "output_type": "stream",
     "text": [
      "Enter your choice:  2\n"
     ]
    },
    {
     "name": "stdout",
     "output_type": "stream",
     "text": [
      "Correct!\n",
      "\n",
      "Who wrote 'Jana Gana Mana'?\n",
      "1. Rabindranath Tagor\n",
      "2. Swami Vivekananda\n",
      "3. Vidyasagar\n"
     ]
    },
    {
     "name": "stdin",
     "output_type": "stream",
     "text": [
      "Enter your choice:  1\n"
     ]
    },
    {
     "name": "stdout",
     "output_type": "stream",
     "text": [
      "Correct!\n",
      "\n",
      "Quiz complete! Your score is: 3/3\n"
     ]
    }
   ],
   "source": [
    "class QuizQuestion:\n",
    "    def __init__(self, question, choices, correct_answer):\n",
    "        self.question = question\n",
    "        self.choices = choices\n",
    "        self.correct_answer = correct_answer\n",
    "\n",
    "    def display_question(self):\n",
    "        print(self.question)\n",
    "        for idx, choice in enumerate(self.choices, start=1):\n",
    "            print(f\"{idx}. {choice}\")\n",
    "    \n",
    "    def check_answer(self, answer):\n",
    "        return answer == self.correct_answer\n",
    "\n",
    "\n",
    "class QuizGame:\n",
    "    def __init__(self):\n",
    "        self.questions = []\n",
    "\n",
    "    def add_question(self, question):\n",
    "        self.questions.append(question)\n",
    "\n",
    "    def start_game(self):\n",
    "        print(\"Welcome to the Quiz Game!\")\n",
    "        score = 0\n",
    "        for question in self.questions:\n",
    "            question.display_question()\n",
    "            user_answer = input(\"Enter your choice: \")\n",
    "            if question.check_answer(int(user_answer)):\n",
    "                print(\"Correct!\")\n",
    "                score += 1\n",
    "            else:\n",
    "                print(\"Incorrect!\")\n",
    "            print()  \n",
    "        print(f\"Quiz complete! Your score is: {score}/{len(self.questions)}\")\n",
    "\n",
    "\n",
    "if __name__ == \"__main__\":\n",
    "   \n",
    "    question1 = QuizQuestion(\"What is the capital of India?\", [\"Delhi\", \"London\", \"Berlin\"], 1)\n",
    "    question2 = QuizQuestion(\"Which planet is known as the Red Planet?\", [\"Earth\", \"Mars\", \"Venus\"], 2)\n",
    "    question3 = QuizQuestion(\"Who wrote 'Jana Gana Mana'?\", [\"Rabindranath Tagor\", \"Swami Vivekananda\", \"Vidyasagar\"], 1)\n",
    "\n",
    "  \n",
    "    quiz_game = QuizGame()\n",
    "    quiz_game.add_question(question1)\n",
    "    quiz_game.add_question(question2)\n",
    "    quiz_game.add_question(question3)\n",
    "\n",
    "  \n",
    "    quiz_game.start_game()\n"
   ]
  },
  {
   "cell_type": "raw",
   "id": "6420dce9-d569-4c1a-8875-105a41af634e",
   "metadata": {},
   "source": [
    "27. Develop a program that determines whether a given year is a prime number or not."
   ]
  },
  {
   "cell_type": "code",
   "execution_count": null,
   "id": "990296fa-5656-4125-b73b-1c5ad38943dd",
   "metadata": {},
   "outputs": [],
   "source": [
    "def is_prime(year):\n",
    "    if year <= 1:\n",
    "        return False\n",
    "    for i in range(2, int(year ** 0.5) + 1):\n",
    "        if year % i == 0:\n",
    "            return False\n",
    "    return True\n",
    "\n",
    "if __name__ == \"__main__\":\n",
    "    try:\n",
    "        year = int(input(\"Enter a year to check if it's prime: \"))\n",
    "        if is_prime(year):\n",
    "            print(f\"{year} is a prime number.\")\n",
    "        else:\n",
    "            print(f\"{year} is not a prime number.\")\n",
    "    except ValueError:\n",
    "        print(\"Invalid input. Please enter a valid integer.\")\n"
   ]
  },
  {
   "cell_type": "raw",
   "id": "2a9cf6ef-37f5-496f-8825-e401e6108cdd",
   "metadata": {},
   "source": [
    "28. Create a program that sorts three numbers in ascending order using conditional statements."
   ]
  },
  {
   "cell_type": "code",
   "execution_count": null,
   "id": "a8f4e5fa-c234-4863-a5c7-0aa2a32baae0",
   "metadata": {},
   "outputs": [],
   "source": [
    "def sort_numbers(a, b, c):\n",
    "    if a > b:\n",
    "        a, b = b, a\n",
    "    if b > c:\n",
    "        b, c = c, b\n",
    "    if a > b:\n",
    "        a, b = b, a\n",
    "    return a, b, c\n",
    "\n",
    "if __name__ == \"__main__\":\n",
    "    try:\n",
    "        num1 = float(input(\"Enter the first number: \"))\n",
    "        num2 = float(input(\"Enter the second number: \"))\n",
    "        num3 = float(input(\"Enter the third number: \"))\n",
    "\n",
    "        sorted_nums = sort_numbers(num1, num2, num3)\n",
    "        print(\"Numbers in ascending order:\", sorted_nums)\n",
    "    except ValueError:\n",
    "        print(\"Invalid input. Please enter valid numeric values.\")\n"
   ]
  },
  {
   "cell_type": "raw",
   "id": "05ecaf2d-2558-4441-8002-e6d0f5389f6e",
   "metadata": {},
   "source": [
    "29. Build a program that determines the roots of a quartic equation using numerical methods."
   ]
  },
  {
   "cell_type": "code",
   "execution_count": null,
   "id": "94967535-0f16-42c8-a76d-1d707811328c",
   "metadata": {},
   "outputs": [],
   "source": [
    "def quartic_equation(x, coefficients):\n",
    "    a, b, c, d, e = coefficients\n",
    "    return a * x**4 + b * x**3 + c * x**2 + d * x + e\n",
    "\n",
    "def quartic_derivative(x, coefficients):\n",
    "    a, b, c, d, _ = coefficients\n",
    "    return 4 * a * x**3 + 3 * b * x**2 + 2 * c * x + d\n",
    "\n",
    "def newton_raphson_quartic(coefficients, initial_guess, tolerance=1e-6, max_iterations=1000):\n",
    "    x = initial_guess\n",
    "    for _ in range(max_iterations):\n",
    "        f_value = quartic_equation(x, coefficients)\n",
    "        f_derivative = quartic_derivative(x, coefficients)\n",
    "        if abs(f_value) < tolerance:\n",
    "            return x\n",
    "        if abs(f_derivative) < tolerance:\n",
    "            break\n",
    "        x = x - f_value / f_derivative\n",
    "    return None\n",
    "\n",
    "if __name__ == \"__main__\":\n",
    "    try:\n",
    "       \n",
    "        coefficients = [1, -10, 35, -50, 24]\n",
    "\n",
    "     \n",
    "        initial_guess = 1.0\n",
    "\n",
    "        root = newton_raphson_quartic(coefficients, initial_guess)\n",
    "        if root is not None:\n",
    "            print(f\"Root found at x = {root:.6f}\")\n",
    "        else:\n",
    "            print(\"Root not found within the specified tolerance or maximum iterations.\")\n",
    "    except ValueError:\n",
    "        print(\"Invalid input. Please enter valid numeric values.\")\n"
   ]
  },
  {
   "cell_type": "raw",
   "id": "9618c5f5-7812-43d6-852a-df4a895b4205",
   "metadata": {},
   "source": [
    "30. Write a program that calculates the BMI (Body Mass Index) and provides health recommendations based\n",
    "on the user's input."
   ]
  },
  {
   "cell_type": "code",
   "execution_count": null,
   "id": "2289b9e2-35c3-41a0-b940-0d0ad63a92f4",
   "metadata": {},
   "outputs": [],
   "source": [
    "def calculate_bmi(weight, height):\n",
    "    return weight / (height ** 2)\n",
    "\n",
    "def get_health_recommendation(bmi):\n",
    "    if bmi < 18.5:\n",
    "        return \"You are underweight. It's important to maintain a balanced diet and consider consulting a healthcare professional.\"\n",
    "    elif 18.5 <= bmi < 25:\n",
    "        return \"Your weight is normal. Keep up the healthy lifestyle!\"\n",
    "    elif 25 <= bmi < 30:\n",
    "        return \"You are overweight. Consider adjusting your diet and increasing physical activity to maintain a healthy weight.\"\n",
    "    else:\n",
    "        return \"You are obese. It's crucial to adopt a healthier lifestyle, including dietary changes and regular exercise. Consult a healthcare professional for guidance.\"\n",
    "\n",
    "if __name__ == \"__main__\":\n",
    "    try:\n",
    "        weight = float(input(\"Enter your weight in kilograms: \"))\n",
    "        height = float(input(\"Enter your height in meters: \"))\n",
    "\n",
    "        bmi = calculate_bmi(weight, height)\n",
    "        print(f\"Your BMI is: {bmi:.2f}\")\n",
    "\n",
    "        recommendation = get_health_recommendation(bmi)\n",
    "        print(\"Health Recommendation:\", recommendation)\n",
    "    except ValueError:\n",
    "        print(\"Invalid input. Please enter numeric values for weight and height.\")\n"
   ]
  },
  {
   "cell_type": "code",
   "execution_count": null,
   "id": "fb9b3056-82e3-413a-9a2d-fede93eeb0bb",
   "metadata": {},
   "outputs": [],
   "source": [
    "Challenge Level:"
   ]
  },
  {
   "cell_type": "raw",
   "id": "4b9f58d2-5936-416c-9dad-2848c46d59b8",
   "metadata": {},
   "source": [
    "31. Create a program that validates a password based on complexity rules (length, characters, etc.)."
   ]
  },
  {
   "cell_type": "code",
   "execution_count": null,
   "id": "914718d3-2352-4ab6-933a-ad7baaaaf9b4",
   "metadata": {},
   "outputs": [],
   "source": [
    "import re\n",
    "\n",
    "def validate_password(password):\n",
    "    \n",
    "    min_length = 8\n",
    "    max_length = 20\n",
    "    contains_lowercase = bool(re.search(r'[a-z]', password))\n",
    "    contains_uppercase = bool(re.search(r'[A-Z]', password))\n",
    "    contains_digit = bool(re.search(r'\\d', password))\n",
    "    contains_special = bool(re.search(r'[!@#$%^&*()-+=]', password))\n",
    "\n",
    "   \n",
    "    if min_length <= len(password) <= max_length and \\\n",
    "       contains_lowercase and contains_uppercase and \\\n",
    "       contains_digit and contains_special:\n",
    "        return True\n",
    "    else:\n",
    "        return False\n",
    "\n",
    "if __name__ == \"__main__\":\n",
    "    try:\n",
    "        password = input(\"Enter your password: \")\n",
    "\n",
    "        if validate_password(password):\n",
    "            print(\"Password is valid.\")\n",
    "        else:\n",
    "            print(\"Password does not meet complexity rules.\")\n",
    "    except KeyboardInterrupt:\n",
    "        print(\"\\nProgram terminated by user.\")\n"
   ]
  },
  {
   "cell_type": "raw",
   "id": "e3a5ae7a-8664-4ebe-8115-29847271faec",
   "metadata": {},
   "source": [
    "32. Develop a program that performs matrix addition and subtraction based on user input."
   ]
  },
  {
   "cell_type": "code",
   "execution_count": null,
   "id": "144c58bf-71ae-4035-b5bd-0a05142ff0e4",
   "metadata": {},
   "outputs": [],
   "source": [
    "def add_matrices(matrix1, matrix2):\n",
    "    result = []\n",
    "    for i in range(len(matrix1)):\n",
    "        row = []\n",
    "        for j in range(len(matrix1[0])):\n",
    "            row.append(matrix1[i][j] + matrix2[i][j])\n",
    "        result.append(row)\n",
    "    return result\n",
    "\n",
    "def subtract_matrices(matrix1, matrix2):\n",
    "    result = []\n",
    "    for i in range(len(matrix1)):\n",
    "        row = []\n",
    "        for j in range(len(matrix1[0])):\n",
    "            row.append(matrix1[i][j] - matrix2[i][j])\n",
    "        result.append(row)\n",
    "    return result\n",
    "\n",
    "def input_matrix(rows, cols):\n",
    "    matrix = []\n",
    "    print(\"Enter the elements of the matrix:\")\n",
    "    for i in range(rows):\n",
    "        row = []\n",
    "        for j in range(cols):\n",
    "            element = float(input(f\"Enter element at position ({i+1},{j+1}): \"))\n",
    "            row.append(element)\n",
    "        matrix.append(row)\n",
    "    return matrix\n",
    "\n",
    "def display_matrix(matrix):\n",
    "    for row in matrix:\n",
    "        print(row)\n",
    "\n",
    "if __name__ == \"__main__\":\n",
    "    try:\n",
    "        rows = int(input(\"Enter the number of rows: \"))\n",
    "        cols = int(input(\"Enter the number of columns: \"))\n",
    "\n",
    "        print(\"Enter the first matrix:\")\n",
    "        matrix1 = input_matrix(rows, cols)\n",
    "\n",
    "        print(\"Enter the second matrix:\")\n",
    "        matrix2 = input_matrix(rows, cols)\n",
    "\n",
    "        print(\"Matrix 1:\")\n",
    "        display_matrix(matrix1)\n",
    "\n",
    "        print(\"Matrix 2:\")\n",
    "        display_matrix(matrix2)\n",
    "\n",
    "        \n",
    "        addition_result = add_matrices(matrix1, matrix2)\n",
    "        subtraction_result = subtract_matrices(matrix1, matrix2)\n",
    "\n",
    "        print(\"Matrix Addition Result:\")\n",
    "        display_matrix(addition_result)\n",
    "\n",
    "        print(\"Matrix Subtraction Result:\")\n",
    "        display_matrix(subtraction_result)\n",
    "    except ValueError:\n",
    "        print(\"Invalid input. Please enter valid numeric values for matrix elements.\")\n"
   ]
  },
  {
   "cell_type": "raw",
   "id": "d0827a69-1ab6-4a7c-a2e5-b4960d43b336",
   "metadata": {},
   "source": [
    "33. Write a program that calculates the greatest common divisor (GCD) of two numbers using the Euclidean\n",
    "algorithm."
   ]
  },
  {
   "cell_type": "code",
   "execution_count": null,
   "id": "c4435355-560b-4c2b-853f-10fb359bd16a",
   "metadata": {},
   "outputs": [],
   "source": [
    "def gcd(a, b):\n",
    "    while b:\n",
    "        a, b = b, a % b\n",
    "    return a\n",
    "\n",
    "if __name__ == \"__main__\":\n",
    "    try:\n",
    "        num1 = int(input(\"Enter the first number: \"))\n",
    "        num2 = int(input(\"Enter the second number: \"))\n",
    "\n",
    "        if num1 < 0 or num2 < 0:\n",
    "            raise ValueError(\"Numbers must be non-negative.\")\n",
    "\n",
    "        result = gcd(num1, num2)\n",
    "        print(f\"The GCD of {num1} and {num2} is: {result}\")\n",
    "    except ValueError as ve:\n",
    "        print(f\"Invalid input: {ve}\")\n",
    "    except Exception as e:\n",
    "        print(f\"An error occurred: {e}\")\n"
   ]
  },
  {
   "cell_type": "raw",
   "id": "4ac5fff1-1c00-4951-af8a-5e69be25747d",
   "metadata": {},
   "source": [
    "34. Build a program that performs matrix multiplication using nested loops and conditional statements."
   ]
  },
  {
   "cell_type": "raw",
   "id": "25323ef6-25f6-433b-846e-f80e7a8fecc8",
   "metadata": {},
   "source": [
    "def matrix_multiplication(matrix1, matrix2):\n",
    "    result = []\n",
    "\n",
    "    \n",
    "    if len(matrix1[0]) != len(matrix2):\n",
    "        print(\"Matrices cannot be multiplied.\")\n",
    "        return result\n",
    "\n",
    "    \n",
    "    for _ in range(len(matrix1)):\n",
    "        result.append([0] * len(matrix2[0]))\n",
    "\n",
    " \n",
    "    for i in range(len(matrix1)):\n",
    "        for j in range(len(matrix2[0])):\n",
    "            for k in range(len(matrix2)):\n",
    "                result[i][j] += matrix1[i][k] * matrix2[k][j]\n",
    "\n",
    "    return result\n",
    "\n",
    "def input_matrix(rows, cols):\n",
    "    matrix = []\n",
    "    print(\"Enter the elements of the matrix:\")\n",
    "    for i in range(rows):\n",
    "        row = []\n",
    "        for j in range(cols):\n",
    "            element = float(input(f\"Enter element at position ({i+1},{j+1}): \"))\n",
    "            row.append(element)\n",
    "        matrix.append(row)\n",
    "    return matrix\n",
    "\n",
    "def display_matrix(matrix):\n",
    "    for row in matrix:\n",
    "        print(row)\n",
    "\n",
    "if __name__ == \"__main__\":\n",
    "    try:\n",
    "        rows1 = int(input(\"Enter the number of rows for matrix 1: \"))\n",
    "        cols1 = int(input(\"Enter the number of columns for matrix 1: \"))\n",
    "\n",
    "        print(\"Enter the elements for matrix 1:\")\n",
    "        matrix1 = input_matrix(rows1, cols1)\n",
    "\n",
    "        rows2 = int(input(\"Enter the number of rows for matrix 2: \"))\n",
    "        cols2 = int(input(\"Enter the number of columns for matrix 2: \"))\n",
    "\n",
    "        print(\"Enter the elements for matrix 2:\")\n",
    "        matrix2 = input_matrix(rows2, cols2)\n",
    "\n",
    "        print(\"Matrix 1:\")\n",
    "        display_matrix(matrix1)\n",
    "\n",
    "        print(\"Matrix 2:\")\n",
    "        display_matrix(matrix2)\n",
    "\n",
    "      \n",
    "        result_matrix = matrix_multiplication(matrix1, matrix2)\n",
    "\n",
    "        if result_matrix:\n",
    "            print(\"Result of Matrix Multiplication:\")\n",
    "            display_matrix(result_matrix)\n",
    "    except ValueError:\n",
    "        print(\"Invalid input. Please enter valid numeric values for matrix elements.\")\n"
   ]
  },
  {
   "cell_type": "raw",
   "id": "5cf08125-871a-4a60-9915-bbd9af099b8e",
   "metadata": {},
   "source": [
    "35. Create a program that simulates a basic text-based tic-tac-toe game against the computer."
   ]
  },
  {
   "cell_type": "code",
   "execution_count": null,
   "id": "90cb0ee2-ebda-432c-ad83-7338893c3603",
   "metadata": {},
   "outputs": [],
   "source": [
    "import random\n",
    "\n",
    "def print_board(board):\n",
    "    for row in board:\n",
    "        print(\" | \".join(row))\n",
    "        print(\"-\" * 5)\n",
    "\n",
    "def check_winner(board, player):\n",
    "    \n",
    "    for i in range(3):\n",
    "        if all(board[i][j] == player for j in range(3)) or \\\n",
    "           all(board[j][i] == player for j in range(3)):\n",
    "            return True\n",
    "    if all(board[i][i] == player for i in range(3)) or \\\n",
    "       all(board[i][2 - i] == player for i in range(3)):\n",
    "        return True\n",
    "    return False\n",
    "\n",
    "def is_board_full(board):\n",
    "    return all(board[i][j] != \" \" for i in range(3) for j in range(3))\n",
    "\n",
    "def get_empty_positions(board):\n",
    "    return [(i, j) for i in range(3) for j in range(3) if board[i][j] == \" \"]\n",
    "\n",
    "def player_move(board):\n",
    "    while True:\n",
    "        try:\n",
    "            row = int(input(\"Enter the row (1-3): \")) - 1\n",
    "            col = int(input(\"Enter the column (1-3): \")) - 1\n",
    "            if board[row][col] == \" \":\n",
    "                board[row][col] = \"X\"\n",
    "                break\n",
    "            else:\n",
    "                print(\"That position is already taken. Try again.\")\n",
    "        except (ValueError, IndexError):\n",
    "            print(\"Invalid input. Please enter row and column numbers (1-3).\")\n",
    "\n",
    "def computer_move(board):\n",
    "    empty_positions = get_empty_positions(board)\n",
    "    row, col = random.choice(empty_positions)\n",
    "    board[row][col] = \"O\"\n",
    "\n",
    "def play_game():\n",
    "    board = [[\" \" for _ in range(3)] for _ in range(3)]\n",
    "    print(\"Welcome to Tic-Tac-Toe!\")\n",
    "    print_board(board)\n",
    "\n",
    "    while True:\n",
    "     \n",
    "        player_move(board)\n",
    "        print_board(board)\n",
    "        if check_winner(board, \"X\"):\n",
    "            print(\"Congratulations! You win!\")\n",
    "            break\n",
    "        if is_board_full(board):\n",
    "            print(\"It's a draw!\")\n",
    "            break\n",
    "\n",
    "      \n",
    "        computer_move(board)\n",
    "        print(\"Computer's move:\")\n",
    "        print_board(board)\n",
    "        if check_winner(board, \"O\"):\n",
    "            print(\"Sorry, you lose!\")\n",
    "            break\n",
    "        if is_board_full(board):\n",
    "            print(\"It's a draw!\")\n",
    "            break\n",
    "\n",
    "if __name__ == \"__main__\":\n",
    "    play_game()\n"
   ]
  },
  {
   "cell_type": "raw",
   "id": "de2d3a9b-c0d5-42a7-8dfc-2007869eb4c9",
   "metadata": {},
   "source": [
    "36. Write a program that generates Fibonacci numbers up to a specified term using iterative methods."
   ]
  },
  {
   "cell_type": "code",
   "execution_count": null,
   "id": "7f8d3840-15bd-46e1-8025-75619fdebf77",
   "metadata": {},
   "outputs": [],
   "source": [
    "def generate_fibonacci(n):\n",
    "    fibonacci_sequence = []\n",
    "    a, b = 0, 1\n",
    "\n",
    "    for _ in range(n):\n",
    "        fibonacci_sequence.append(a)\n",
    "        a, b = b, a + b\n",
    "\n",
    "    return fibonacci_sequence\n",
    "\n",
    "if __name__ == \"__main__\":\n",
    "    try:\n",
    "        n = int(input(\"Enter the number of Fibonacci numbers to generate: \"))\n",
    "\n",
    "        if n <= 0:\n",
    "            print(\"Please enter a positive integer.\")\n",
    "        else:\n",
    "            fibonacci_numbers = generate_fibonacci(n)\n",
    "            print(\"Fibonacci sequence:\")\n",
    "            print(fibonacci_numbers)\n",
    "    except ValueError:\n",
    "        print(\"Invalid input. Please enter a valid integer.\")\n"
   ]
  },
  {
   "cell_type": "raw",
   "id": "20a3babe-5b07-429a-9283-71292701ef13",
   "metadata": {},
   "source": [
    "37. Develop a program that calculates the nth term of the Fibonacci sequence using memoization."
   ]
  },
  {
   "cell_type": "code",
   "execution_count": null,
   "id": "2ace45d1-a522-4847-8981-585e6596ccb5",
   "metadata": {},
   "outputs": [],
   "source": [
    "fibonacci_cache = {}\n",
    "\n",
    "def fibonacci(n):\n",
    "    \n",
    "    if n in fibonacci_cache:\n",
    "        return fibonacci_cache[n]\n",
    "\n",
    " \n",
    "    if n <= 1:\n",
    "        return n\n",
    "\n",
    "    \n",
    "    fibonacci_cache[n] = fibonacci(n - 1) + fibonacci(n - 2)\n",
    "    return fibonacci_cache[n]\n",
    "\n",
    "if __name__ == \"__main__\":\n",
    "    try:\n",
    "        n = int(input(\"Enter the value of n for Fibonacci sequence: \"))\n",
    "\n",
    "        if n < 0:\n",
    "            print(\"Please enter a non-negative integer.\")\n",
    "        else:\n",
    "            result = fibonacci(n)\n",
    "            print(f\"The {n}th term of the Fibonacci sequence is: {result}\")\n",
    "    except ValueError:\n",
    "        print(\"Invalid input. Please enter a valid integer.\")\n"
   ]
  },
  {
   "cell_type": "raw",
   "id": "8eea4870-c1a9-4de6-b116-238c52433337",
   "metadata": {},
   "source": [
    "38. Create a program that generates a calendar for a given month and year using conditional statements."
   ]
  },
  {
   "cell_type": "code",
   "execution_count": null,
   "id": "29ea9edf-f857-4ed3-b061-c8c38c9fffbf",
   "metadata": {},
   "outputs": [],
   "source": [
    "import calendar\n",
    "\n",
    "def generate_calendar(year, month):\n",
    "    \n",
    "    first_day_of_month, num_days_in_month = calendar.monthrange(year, month)\n",
    "\n",
    "  \n",
    "    print(calendar.month_name[month], year)\n",
    "    print(\"Mo Tu We Th Fr Sa Su\")\n",
    "\n",
    "    \n",
    "    current_day = 1\n",
    "    for week in range(6):\n",
    "        week_str = \"\"\n",
    "        for day in range(7):\n",
    "            if week == 0 and day < first_day_of_month:\n",
    "                week_str += \"   \"\n",
    "            elif current_day > num_days_in_month:\n",
    "                break\n",
    "            else:\n",
    "                week_str += f\"{current_day:2d} \"\n",
    "                current_day += 1\n",
    "        print(week_str)\n",
    "\n",
    "if __name__ == \"__main__\":\n",
    "    try:\n",
    "        year = int(input(\"Enter the year: \"))\n",
    "        month = int(input(\"Enter the month (1-12): \"))\n",
    "\n",
    "        if not 1 <= month <= 12:\n",
    "            raise ValueError(\"Month must be between 1 and 12.\")\n",
    "\n",
    "        generate_calendar(year, month)\n",
    "    except ValueError as ve:\n",
    "        print(f\"Invalid input: {ve}\")\n"
   ]
  },
  {
   "cell_type": "raw",
   "id": "f77212b5-288e-4e43-a647-186aed677a5d",
   "metadata": {},
   "source": [
    "39. Build a program that simulates a basic text-based blackjack game against the computer."
   ]
  },
  {
   "cell_type": "code",
   "execution_count": null,
   "id": "30dd7257-f06a-4950-bdab-1edbd73e8056",
   "metadata": {},
   "outputs": [],
   "source": [
    "import random\n",
    "\n",
    "\n",
    "ranks = ['2', '3', '4', '5', '6', '7', '8', '9', '10', 'J', 'Q', 'K', 'A']\n",
    "suits = ['Hearts', 'Diamonds', 'Clubs', 'Spades']\n",
    "values = {'2': 2, '3': 3, '4': 4, '5': 5, '6': 6, '7': 7, '8': 8, '9': 9, '10': 10, 'J': 10, 'Q': 10, 'K': 10, 'A': 11}\n",
    "\n",
    "def create_deck():\n",
    "    \"\"\"Create a standard deck of 52 cards.\"\"\"\n",
    "    return [(rank, suit) for rank in ranks for suit in suits]\n",
    "\n",
    "def deal_card(deck):\n",
    "    \"\"\"Deal a random card from the deck.\"\"\"\n",
    "    return deck.pop(random.randint(0, len(deck)-1))\n",
    "\n",
    "def calculate_score(hand):\n",
    "    \"\"\"Calculate the total score of a hand.\"\"\"\n",
    "    score = sum(values[card[0]] for card in hand)\n",
    "    num_aces = sum(1 for card in hand if card[0] == 'A')\n",
    "\n",
    "   \n",
    "    while score > 21 and num_aces:\n",
    "        score -= 10\n",
    "        num_aces -= 1\n",
    "\n",
    "    return score\n",
    "\n",
    "def display_hand(hand, player_name):\n",
    "    \"\"\"Display the cards in a player's hand.\"\"\"\n",
    "    print(f\"{player_name}'s Hand:\")\n",
    "    for card in hand:\n",
    "        print(f\"{card[0]} of {card[1]}\")\n",
    "    print(f\"Total Score: {calculate_score(hand)}\\n\")\n",
    "\n",
    "def blackjack():\n",
    "    \"\"\"Play a game of Blackjack.\"\"\"\n",
    "    print(\"Welcome to Text-based Blackjack!\")\n",
    "\n",
    "    deck = create_deck()\n",
    "    random.shuffle(deck)\n",
    "\n",
    "   \n",
    "    player_hand = [deal_card(deck), deal_card(deck)]\n",
    "    dealer_hand = [deal_card(deck), deal_card(deck)]\n",
    "\n",
    "    \n",
    "    display_hand(player_hand, \"Player\")\n",
    "    display_hand(dealer_hand, \"Dealer\")\n",
    "\n",
    "  \n",
    "    while calculate_score(player_hand) <= 21:\n",
    "        action = input(\"Do you want to hit or stand? (h/s): \").lower()\n",
    "        if action == 'h':\n",
    "            player_hand.append(deal_card(deck))\n",
    "            display_hand(player_hand, \"Player\")\n",
    "        elif action == 's':\n",
    "            break\n",
    "\n",
    "    player_score = calculate_score(player_hand)\n",
    "\n",
    "   \n",
    "    while calculate_score(dealer_hand) < 17:\n",
    "        dealer_hand.append(deal_card(deck))\n",
    "\n",
    "    dealer_score = calculate_score(dealer_hand)\n",
    "\n",
    " \n",
    "    print(\"Final Hands:\")\n",
    "    display_hand(player_hand, \"Player\")\n",
    "    display_hand(dealer_hand, \"Dealer\")\n",
    "\n",
    "   \n",
    "    if player_score > 21:\n",
    "        print(\"Player busts! Dealer wins.\")\n",
    "    elif dealer_score > 21 or player_score > dealer_score:\n",
    "        print(\"Player wins!\")\n",
    "    elif player_score < dealer_score:\n",
    "        print(\"Dealer wins.\")\n",
    "    else:\n",
    "        print(\"It's a tie!\")\n",
    "\n",
    "if __name__ == \"__main__\":\n",
    "    blackjack()\n"
   ]
  },
  {
   "cell_type": "raw",
   "id": "9f5912a8-cd06-490d-af52-54f6100634a1",
   "metadata": {},
   "source": [
    "40. Write a program that generates the prime factors of a given number using trial division."
   ]
  },
  {
   "cell_type": "code",
   "execution_count": null,
   "id": "e68218d1-ca7d-41b6-8796-4e56a7809fdb",
   "metadata": {},
   "outputs": [],
   "source": []
  },
  {
   "cell_type": "code",
   "execution_count": null,
   "id": "3b2b97e9-f7db-4efa-8795-350436b87567",
   "metadata": {},
   "outputs": [],
   "source": []
  },
  {
   "cell_type": "code",
   "execution_count": null,
   "id": "48a88bfc-e8e1-435e-8cce-3d2cd691774b",
   "metadata": {},
   "outputs": [],
   "source": []
  },
  {
   "cell_type": "code",
   "execution_count": null,
   "id": "d1b83250-f7ec-440e-bad0-9f382e8a5552",
   "metadata": {},
   "outputs": [],
   "source": []
  },
  {
   "cell_type": "code",
   "execution_count": null,
   "id": "94a708bb-e73b-4648-88f0-c178bbd93048",
   "metadata": {},
   "outputs": [],
   "source": []
  },
  {
   "cell_type": "code",
   "execution_count": null,
   "id": "ff82c48c-63aa-43db-b9d0-9661f0870032",
   "metadata": {},
   "outputs": [],
   "source": []
  },
  {
   "cell_type": "code",
   "execution_count": null,
   "id": "24d281dc-5da2-43ed-a0c6-bc9d7e35a505",
   "metadata": {},
   "outputs": [],
   "source": []
  },
  {
   "cell_type": "code",
   "execution_count": null,
   "id": "41b7e4a4-c5f2-417b-bb26-e20d029e7407",
   "metadata": {},
   "outputs": [],
   "source": []
  },
  {
   "cell_type": "code",
   "execution_count": null,
   "id": "65bc26a0-a0d1-44bd-9729-62e1d4e9a67f",
   "metadata": {},
   "outputs": [],
   "source": []
  },
  {
   "cell_type": "code",
   "execution_count": null,
   "id": "4148a8c7-a996-4423-9cb9-fb5b65cf9c06",
   "metadata": {},
   "outputs": [],
   "source": []
  },
  {
   "cell_type": "code",
   "execution_count": null,
   "id": "eaa2a127-15f6-4049-b2c2-3424b2165baf",
   "metadata": {},
   "outputs": [],
   "source": []
  },
  {
   "cell_type": "code",
   "execution_count": null,
   "id": "f555cf9d-7266-48f6-9e0c-46764af65a90",
   "metadata": {},
   "outputs": [],
   "source": []
  },
  {
   "cell_type": "code",
   "execution_count": null,
   "id": "c9c44c8e-bf64-4729-a979-e561321818cd",
   "metadata": {},
   "outputs": [],
   "source": []
  },
  {
   "cell_type": "code",
   "execution_count": null,
   "id": "9e1dfa8f-0186-4e6d-aa8d-3416a6138baa",
   "metadata": {},
   "outputs": [],
   "source": []
  },
  {
   "cell_type": "code",
   "execution_count": null,
   "id": "76cd4cc3-f8a4-43b3-9b73-9be0aa9a434d",
   "metadata": {},
   "outputs": [],
   "source": []
  },
  {
   "cell_type": "code",
   "execution_count": null,
   "id": "f2f49cd4-66a3-4f41-aa43-ea81329460cc",
   "metadata": {},
   "outputs": [],
   "source": []
  },
  {
   "cell_type": "code",
   "execution_count": null,
   "id": "cc3b8491-4a89-4fba-abb6-1b4b0d04cf68",
   "metadata": {},
   "outputs": [],
   "source": []
  },
  {
   "cell_type": "code",
   "execution_count": null,
   "id": "3076b0e5-9574-43b4-8629-de1880bea188",
   "metadata": {},
   "outputs": [],
   "source": []
  },
  {
   "cell_type": "code",
   "execution_count": null,
   "id": "a6b2c607-5067-40c3-822b-c56f52ffd76f",
   "metadata": {},
   "outputs": [],
   "source": []
  },
  {
   "cell_type": "code",
   "execution_count": null,
   "id": "f6991116-2de4-4eaf-97ef-60864eb9a04a",
   "metadata": {},
   "outputs": [],
   "source": []
  },
  {
   "cell_type": "code",
   "execution_count": null,
   "id": "a24aab78-2578-4263-9b84-7a4a08d8e856",
   "metadata": {},
   "outputs": [],
   "source": []
  }
 ],
 "metadata": {
  "kernelspec": {
   "display_name": "Python 3 (ipykernel)",
   "language": "python",
   "name": "python3"
  },
  "language_info": {
   "codemirror_mode": {
    "name": "ipython",
    "version": 3
   },
   "file_extension": ".py",
   "mimetype": "text/x-python",
   "name": "python",
   "nbconvert_exporter": "python",
   "pygments_lexer": "ipython3",
   "version": "3.10.8"
  }
 },
 "nbformat": 4,
 "nbformat_minor": 5
}
